{
 "cells": [
  {
   "cell_type": "markdown",
   "id": "fb335a3c-a82f-47d4-bdb7-66ea8c77a292",
   "metadata": {
    "editable": true,
    "execution": {
     "iopub.execute_input": "2024-09-18T00:47:06.997985Z",
     "iopub.status.busy": "2024-09-18T00:47:06.997695Z",
     "iopub.status.idle": "2024-09-18T00:47:07.003693Z",
     "shell.execute_reply": "2024-09-18T00:47:07.002300Z",
     "shell.execute_reply.started": "2024-09-18T00:47:06.997959Z"
    },
    "slideshow": {
     "slide_type": ""
    },
    "tags": []
   },
   "source": [
    "# Thermal Convection\n",
    "\n",
    "This example solves 2D dimensionless isoviscous thermal convection with a Rayleigh number of $10^7$, see Blankenbach *et al.* 1989 for details.\n",
    "\n",
    "**References**\n",
    "\n",
    "B. Blankenbach, F. Busse, U. Christensen, L. Cserepes, D. Gunkel, U. Hansen, H. Harder, G. Jarvis, M. Koch, G. Marquart, D. Moore, P. Olson, H. Schmeling and T. Schnaubelt. A benchmark comparison for mantle convection codes. Geophysical Journal International, 98, 1, 23–38, 1989\n",
    "http://onlinelibrary.wiley.com/doi/10.1111/j.1365-246X.1989.tb05511.x/abstract"
   ]
  },
  {
   "cell_type": "code",
   "execution_count": 1,
   "id": "28067190-5d89-401b-8fb6-2702b4fbe3b4",
   "metadata": {
    "editable": true,
    "slideshow": {
     "slide_type": ""
    },
    "tags": []
   },
   "outputs": [],
   "source": [
    "#|  echo: false  # Hide in html version\n",
    "\n",
    "# This is required to fix pyvista \n",
    "# (visualisation) crashes in interactive notebooks (including on binder)\n",
    "\n",
    "import nest_asyncio\n",
    "nest_asyncio.apply()"
   ]
  },
  {
   "cell_type": "code",
   "execution_count": 2,
   "id": "042970c2-ab87-4483-b68c-3fe6b8e633a2",
   "metadata": {
    "editable": true,
    "slideshow": {
     "slide_type": ""
    },
    "tags": []
   },
   "outputs": [
    {
     "name": "stderr",
     "output_type": "stream",
     "text": [
      "[MacBook-Pro.local:32713] shmem: mmap: an error occurred while determining whether or not /var/folders/0j/bnxlsh897sl6b1rv06fnt5r80000gp/T//ompi.MacBook-Pro.502/jf.0/2217738240/sm_segment.MacBook-Pro.502.84300000.0 could be created.\n"
     ]
    }
   ],
   "source": [
    "#| output: false # Suppress warnings in html version\n",
    "\n",
    "import underworld3 as uw\n",
    "import numpy as np\n",
    "import sympy"
   ]
  },
  {
   "cell_type": "markdown",
   "id": "9ebfaa06-db80-4336-bbaa-b4a314e7306d",
   "metadata": {},
   "source": [
    "#### Setup scaling of the model"
   ]
  },
  {
   "cell_type": "code",
   "execution_count": 3,
   "id": "66492454-9a9e-4e2b-8fdd-167768aeaf87",
   "metadata": {},
   "outputs": [
    {
     "data": {
      "text/html": [
       "<table><tr><td>[mass]</td><td>3.1557599999999994e+42 kilogram</td></tr><tr><td>[length]</td><td>1000000.0 meter</td></tr><tr><td>[temperature]</td><td>1000.0000000000001 kelvin</td></tr><tr><td>[time]</td><td>31557600000000.0 second</td></tr><tr><td>[substance]</td><td>1.0 mole</td></tr></table>"
      ],
      "text/plain": [
       "{'[length]': <Quantity(1000000.0, 'meter')>,\n",
       " '[mass]': <Quantity(3.15576e+42, 'kilogram')>,\n",
       " '[time]': <Quantity(3.15576e+13, 'second')>,\n",
       " '[temperature]': <Quantity(1000.0, 'kelvin')>,\n",
       " '[substance]': <Quantity(1.0, 'mole')>}"
      ]
     },
     "execution_count": 3,
     "metadata": {},
     "output_type": "execute_result"
    }
   ],
   "source": [
    "u = uw.scaling.units\n",
    "\n",
    "### make scaling easier\n",
    "ndim = uw.scaling.non_dimensionalise\n",
    "nd   = uw.scaling.non_dimensionalise\n",
    "dim  = uw.scaling.dimensionalise \n",
    "\n",
    "\n",
    "\n",
    "boxHeight = 1000. * u.kilometer\n",
    "boxLength = 2000. * u.kilometer\n",
    "\n",
    "tempMin = 273.15 * u.degK\n",
    "tempMax = 1273.15 * u.degK\n",
    "\n",
    "refViscosity = 1e23 * u.pascal * u.second\n",
    "\n",
    "KL = boxHeight\n",
    "KT = (tempMax - tempMin)\n",
    "Kt = 1.0 * u.megayear\n",
    "KM = refViscosity * KL * Kt\n",
    "\n",
    "\n",
    "\n",
    "scaling_coefficients  = uw.scaling.get_coefficients()\n",
    "scaling_coefficients[\"[length]\"] = KL\n",
    "scaling_coefficients[\"[time]\"]= Kt\n",
    "scaling_coefficients[\"[mass]\"]= KM\n",
    "scaling_coefficients[\"[temperature]\"]= KT\n",
    "\n",
    "scaling_coefficients"
   ]
  },
  {
   "cell_type": "markdown",
   "id": "05b54c87-3c4b-44d3-98d2-c8bc0a740615",
   "metadata": {},
   "source": [
    "#### Setup the mesh"
   ]
  },
  {
   "cell_type": "code",
   "execution_count": 4,
   "id": "dbfb8082-a97b-4955-8891-3ed019c4c421",
   "metadata": {
    "editable": true,
    "slideshow": {
     "slide_type": ""
    },
    "tags": []
   },
   "outputs": [
    {
     "name": "stdout",
     "output_type": "stream",
     "text": [
      "Structured box element resolution 32 32\n",
      "\n",
      "\n",
      "Mesh # 0: .meshes/uw_structuredQuadBox_minC(0.0, 0.0)_maxC(2.0, 1.0).msh\n",
      "\n",
      "No variables are defined on the mesh\n",
      "\n",
      "| Boundary Name            | ID    | Min Size | Max Size |\n",
      "| ------------------------------------------------------ |\n",
      "| Bottom                   | 11    | 63       | 63       |\n",
      "| Top                      | 12    | 63       | 63       |\n",
      "| Right                    | 13    | 63       | 63       |\n",
      "| Left                     | 14    | 63       | 63       |\n",
      "| Null_Boundary            | 666   | 1089     | 1089     |\n",
      "| All_Boundaries           | 1001  | 128      | 128      |\n",
      "| All_Boundaries           | 1001  | 128      | 128      |\n",
      "| UW_Boundaries            | --    | 1469     | 1469     |\n",
      "| ------------------------------------------------------ |\n",
      "\n",
      "\n",
      "DM Object: uw_.meshes/uw_structuredQuadBox_minC(0.0, 0.0)_maxC(2.0, 1.0).msh 1 MPI process\n",
      "  type: plex\n",
      "uw_.meshes/uw_structuredQuadBox_minC(0.0, 0.0)_maxC(2.0, 1.0).msh in 2 dimensions:\n",
      "  Number of 0-cells per rank: 1089\n",
      "  Number of 1-cells per rank: 2112\n",
      "  Number of 2-cells per rank: 1024\n",
      "Labels:\n",
      "  depth: 3 strata with value/size (0 (1089), 1 (2112), 2 (1024))\n",
      "  All_Boundaries: 1 strata with value/size (1001 (128))\n",
      "  Bottom: 1 strata with value/size (11 (63))\n",
      "  Elements: 1 strata with value/size (99999 (1985))\n",
      "  Left: 1 strata with value/size (14 (63))\n",
      "  Right: 1 strata with value/size (13 (63))\n",
      "  Top: 1 strata with value/size (12 (63))\n",
      "  celltype: 3 strata with value/size (0 (1089), 1 (2112), 4 (1024))\n",
      "  Null_Boundary: 1 strata with value/size (666 (1089))\n",
      "  UW_Boundaries: 6 strata with value/size (11 (63), 12 (63), 13 (63), 14 (63), 666 (1089), 1001 (128))\n"
     ]
    }
   ],
   "source": [
    "# mesh = uw.meshing.UnstructuredSimplexBox(\n",
    "#             minCoords=(nd(0. * u.centimeter), nd(0. * u.centimeter)), \n",
    "#             maxCoords=(nd(20. * u.centimeter), nd(10. * u.centimeter)),\n",
    "#             cellSize=1 / 12\n",
    "# )\n",
    "\n",
    "mesh = uw.meshing.StructuredQuadBox(\n",
    "                minCoords=(0., 0.), \n",
    "                  maxCoords=(nd(2000. * u.kilometer), nd(1000. * u .kilometer)),\n",
    "            elementRes=(32,32)\n",
    ")\n",
    "\n",
    "\n",
    "mesh.view()"
   ]
  },
  {
   "cell_type": "code",
   "execution_count": 5,
   "id": "f092e224",
   "metadata": {},
   "outputs": [
    {
     "data": {
      "application/vnd.jupyter.widget-view+json": {
       "model_id": "17272e4386f94ccb885c5ba25163ecad",
       "version_major": 2,
       "version_minor": 0
      },
      "text/plain": [
       "Widget(value='<iframe src=\"http://localhost:62395/index.html?ui=P_0x324f625c0_0&reconnect=auto\" class=\"pyvista…"
      ]
     },
     "metadata": {},
     "output_type": "display_data"
    }
   ],
   "source": [
    "from mpi4py import MPI\n",
    "\n",
    "if MPI.COMM_WORLD.size == 1:\n",
    "    \n",
    "    import pyvista as pv\n",
    "    import underworld3.visualisation as vis\n",
    "\n",
    "    pvmesh = vis.mesh_to_pv_mesh(mesh)\n",
    "\n",
    "    pl = pv.Plotter(window_size=(1000, 500), shape=(1, 1))\n",
    "\n",
    "\n",
    "    pl.add_mesh(\n",
    "        pvmesh,\n",
    "        cmap=\"coolwarm\",\n",
    "        edge_color=\"Black\",\n",
    "        show_edges=True,\n",
    "        use_transparency=False,\n",
    "        opacity=1,\n",
    "        show_scalar_bar=True,\n",
    "    )\n",
    "\n",
    "    pl.show()\n"
   ]
  },
  {
   "cell_type": "code",
   "execution_count": 6,
   "id": "d2ac5182-8b9f-4852-8e2e-4b0a16808ad0",
   "metadata": {
    "editable": true,
    "slideshow": {
     "slide_type": ""
    },
    "tags": []
   },
   "outputs": [],
   "source": [
    "# mesh variables\n",
    "### for stokes\n",
    "p_soln = uw.discretisation.MeshVariable(varname=\"p\", mesh=mesh, num_components=1, degree=0, continuous=False )\n",
    "v_soln = uw.discretisation.MeshVariable(varname=\"v\", mesh=mesh, num_components=2, degree=1)\n",
    "#### for advDiff\n",
    "T_soln = uw.discretisation.MeshVariable(varname=\"T\", mesh=mesh, num_components=1, degree=1)\n"
   ]
  },
  {
   "cell_type": "markdown",
   "id": "d4a41be4-4e06-4373-aaa0-47c9ae3b998a",
   "metadata": {},
   "source": [
    "### The Stokes solver\n",
    "\n",
    "There are a number of pre-defined *solver systems* defined in `underworld3` \n",
    "which are templates for orchestrating the underlying PETSc objects. \n",
    "A solver requires us to define the unknown in the form of `meshVariables`, \n",
    "provide boundary conditions, a constitutive model, \n",
    "and provide `uw.functions` to define constitutive\n",
    "properties, and driving terms.\n",
    "\n",
    "We will use the `Stokes` solver to solve for the body force (forcing term) and viscous drag (flux term).\n",
    "\n",
    "The solver classes themselves are documented, so we can figure out what \n",
    "is needed before we define anything:\n"
   ]
  },
  {
   "cell_type": "code",
   "execution_count": 7,
   "id": "4dc10f34-02b3-48cc-9d5c-ecae856d4046",
   "metadata": {},
   "outputs": [
    {
     "data": {
      "text/markdown": [
       "\n",
       "This class provides functionality for a discrete representation\n",
       "of the Stokes flow equations assuming an incompressibility\n",
       "(or near-incompressibility) constraint.\n",
       "\n",
       "$$\n",
       "\\nabla \\cdot\n",
       "        \\color{Blue}{\\underbrace{\\Bigl[\n",
       "                \\boldsymbol{\\tau} -  p \\mathbf{I} \\Bigr]}_{\\mathbf{F}}} =\n",
       "        \\color{Maroon}{\\underbrace{\\Bigl[ \\mathbf{f} \\Bigl] }_{\\mathbf{h}}}\n",
       "$$\n",
       "\n",
       "$$\n",
       "\\underbrace{\\Bigl[ \\nabla \\cdot \\mathbf{u} \\Bigr]}_{\\mathbf{h}_p} = 0\n",
       "$$\n",
       "\n",
       "The flux term is a deviatoric stress ( $\\boldsymbol{\\tau}$ ) related to velocity gradients\n",
       "  ( $\\nabla \\mathbf{u}$ ) through a viscosity tensor, $\\eta$, and a volumetric (pressure) part $p$\n",
       "\n",
       "$$\n",
       "    \\mathbf{F}: \\quad \\boldsymbol{\\tau} = \\frac{\\eta}{2}\\left( \\nabla \\mathbf{u} + \\nabla \\mathbf{u}^T \\right)\n",
       "$$\n",
       "\n",
       "The constraint equation, $\\mathbf{h}_p = 0$ gives incompressible flow by default but can be set\n",
       "to any function of the unknown  $\\mathbf{u}$ and  $\\nabla\\cdot\\mathbf{u}$\n",
       "\n",
       "## Properties\n",
       "\n",
       "  - The unknowns are velocities $\\mathbf{u}$ and a pressure-like constraint parameter $\\mathbf{p}$\n",
       "\n",
       "  - The viscosity tensor, $\\boldsymbol{\\eta}$ is provided by setting the `constitutive_model` property to\n",
       "one of the scalar `uw.constitutive_models` classes and populating the parameters.\n",
       "It is usually a constant or a function of position / time and may also be non-linear\n",
       "or anisotropic.\n",
       "\n",
       "  - $\\mathbf f$ is a volumetric source term (i.e. body forces)\n",
       "  and is set by providing the `bodyforce` property.\n",
       "\n",
       "  - An Augmented Lagrangian approach to application of the incompressibility\n",
       "constraint is to penalise incompressibility in the Stokes equation by adding\n",
       "$ \\lambda \\nabla \\cdot \\mathbf{u} $ when the weak form of the equations is constructed.\n",
       "(this is in addition to the constraint equation, unlike in the classical penalty method).\n",
       "This is activated by setting the `penalty` property to a non-zero floating point value which adds\n",
       "the term in the `sympy` expression.\n",
       "\n",
       "  - A preconditioner is usually required for the saddle point system and this is provided\n",
       "though the `saddle_preconditioner` property. The default choice is $1/\\eta$ for a scalar viscosity function.\n",
       "\n",
       "## Notes\n",
       "\n",
       "  - For problems with viscoelastic behaviour, the flux term contains the stress history as well as the\n",
       "    stress and this term is a Lagrangian quantity that has to be tracked on a particle swarm.\n",
       "\n",
       "  - The interpolation order of the `pressureField` variable is used to determine the integration order of\n",
       "the mixed finite element method and is usually lower than the order of the `velocityField` variable.\n",
       "\n",
       "  - It is possible to set discontinuous pressure variables by setting the `p_continous` option to `False`\n",
       "\n"
      ],
      "text/plain": [
       "<IPython.core.display.Markdown object>"
      ]
     },
     "metadata": {},
     "output_type": "display_data"
    }
   ],
   "source": [
    "uw.systems.Stokes.view()"
   ]
  },
  {
   "cell_type": "markdown",
   "id": "8911b4d4-ec12-4416-b07b-9c6be8ad26de",
   "metadata": {},
   "source": [
    "### Problem setup"
   ]
  },
  {
   "cell_type": "code",
   "execution_count": 8,
   "id": "5fa9112a-7900-44ee-9c2e-1e887792bf13",
   "metadata": {
    "editable": true,
    "slideshow": {
     "slide_type": ""
    },
    "tags": []
   },
   "outputs": [],
   "source": [
    "# Setup stokes\n",
    "stokes = uw.systems.Stokes(mesh, velocityField=v_soln, pressureField=p_soln)"
   ]
  },
  {
   "cell_type": "markdown",
   "id": "bec72bde-7e9b-4243-977d-af2abf84b31c",
   "metadata": {},
   "source": [
    "### Constitutive Models\n",
    "\n",
    "Most of the solvers require a constitutive model to be provided and its\n",
    "parameters populated. This is to allow flexibility in defining / redefining \n",
    "solvers during a model calculation.\n",
    "\n",
    "We need a viscous flow model. We can look at the documentation first. "
   ]
  },
  {
   "cell_type": "code",
   "execution_count": 9,
   "id": "e01b8be2-0bd5-445d-9926-7ad4014b3502",
   "metadata": {},
   "outputs": [
    {
     "data": {
      "text/markdown": [
       "\n",
       "### Viscous Flow Model\n",
       "\n",
       "$$\\tau_{ij} = \\eta_{ijkl} \\cdot \\frac{1}{2} \\left[ \\frac{\\partial u_k}{\\partial x_l} + \\frac{\\partial u_l}{\\partial x_k} \\right]$$\n",
       "\n",
       "where $\\eta$ is the viscosity, a scalar constant, `sympy` function, `underworld` mesh variable or\n",
       "any valid combination of those types. This results in an isotropic (but not necessarily homogeneous or linear)\n",
       "relationship between $\\tau$ and the velocity gradients. You can also supply $\\eta_{IJ}$, the Mandel form of the\n",
       "constitutive tensor, or $\\eta_{ijkl}$, the rank 4 tensor.\n",
       "\n",
       "The Mandel constitutive matrix is available in `viscous_model.C` and the rank 4 tensor form is\n",
       "in `viscous_model.c`.\n",
       "\n",
       "\n"
      ],
      "text/plain": [
       "<IPython.core.display.Markdown object>"
      ]
     },
     "metadata": {},
     "output_type": "display_data"
    }
   ],
   "source": [
    "uw.constitutive_models.ViscousFlowModel.view()"
   ]
  },
  {
   "cell_type": "code",
   "execution_count": 10,
   "id": "747afddd-c0c4-49e2-8cc1-144cecf87698",
   "metadata": {},
   "outputs": [],
   "source": [
    "stokes.constitutive_model = uw.constitutive_models.ViscousFlowModel"
   ]
  },
  {
   "cell_type": "markdown",
   "id": "8e99845d-9286-4cd6-b6b2-0ced4fb2ded7",
   "metadata": {},
   "source": [
    "##### We use the material index to map a viscosity"
   ]
  },
  {
   "cell_type": "code",
   "execution_count": 11,
   "id": "5fb9b638-1505-4c9c-bea5-f2a13b63a31a",
   "metadata": {},
   "outputs": [],
   "source": [
    "eta = uw.function.expression(\n",
    "                    r'\\eta',\n",
    "                    sym=nd(1e23*u.pascal*u.second),\n",
    "                    description=\"model viscosity\"\n",
    "                        )\n"
   ]
  },
  {
   "cell_type": "code",
   "execution_count": 12,
   "id": "5aa17f7e-b50e-4c41-8aba-6c1510370aaa",
   "metadata": {},
   "outputs": [
    {
     "data": {
      "text/markdown": [
       "**Class**: <class 'underworld3.constitutive_models.ViscousFlowModel'>"
      ],
      "text/plain": [
       "<IPython.core.display.Markdown object>"
      ]
     },
     "metadata": {},
     "output_type": "display_data"
    },
    {
     "data": {
      "text/markdown": [
       "This consititutive model is formulated for 2 dimensional equations"
      ],
      "text/plain": [
       "<IPython.core.display.Markdown object>"
      ]
     },
     "metadata": {},
     "output_type": "display_data"
    },
    {
     "data": {
      "text/latex": [
       "$\\quad\\eta_\\textrm{eff} = $ $\\displaystyle { \\eta \\hspace{ 0.03pt } }$"
      ],
      "text/plain": [
       "<IPython.core.display.Latex object>"
      ]
     },
     "metadata": {},
     "output_type": "display_data"
    }
   ],
   "source": [
    "stokes.constitutive_model.Parameters.shear_viscosity_0 = eta\n",
    "stokes.saddle_preconditioner = 1 / eta\n",
    "stokes.constitutive_model.view()"
   ]
  },
  {
   "cell_type": "markdown",
   "id": "ed91302b-7b32-472a-8639-4740e28049e3",
   "metadata": {},
   "source": [
    "#### Setup temperature-dependent density"
   ]
  },
  {
   "cell_type": "code",
   "execution_count": 13,
   "id": "6591be9f-d6fb-4269-96cc-9aff40e461be",
   "metadata": {},
   "outputs": [],
   "source": [
    "alpha = uw.function.expression(\n",
    "                    r'\\alpha',\n",
    "                    sym=nd(2.5e-5/u.degK),\n",
    "                    description=\"model thermal expansivity\"\n",
    "                        )\n",
    "\n",
    "rho_0 = uw.function.expression(\n",
    "                    r'\\rho',\n",
    "                    sym=nd(4000*u.kilogram/u.meter**3),\n",
    "                    description=\"model density\"\n",
    "                        )\n",
    "\n",
    "T_0 = uw.function.expression(\n",
    "                    r'T_{0}',\n",
    "                    sym=nd(273.15*u.kelvin),\n",
    "                    description=\"reference temperature at surface\"\n",
    "                        )\n",
    "\n",
    "t_term = alpha.sym * (T_soln.sym[0] - T_0)\n",
    "\n",
    "\n",
    "\n",
    "density_fn = rho_0.sym * (1 - t_term)\n",
    "\n",
    "\n",
    "\n",
    "gravity = uw.function.expression(\n",
    "                    r'g',\n",
    "                    sym=nd(9.81*u.meter/u.second**2),\n",
    "                    description=\"gravity\"\n",
    "                        )"
   ]
  },
  {
   "cell_type": "code",
   "execution_count": 14,
   "id": "d45c4f18-3030-4b5f-968f-3e31c5aaa977",
   "metadata": {},
   "outputs": [
    {
     "data": {
      "text/latex": [
       "$\\displaystyle 3.1688087814029 \\cdot 10^{-23} { T_{0} \\hspace{ 0.07pt } } - 3.1688087814029 \\cdot 10^{-23} {T}(\\mathbf{x}) + 1.26752351256116 \\cdot 10^{-21}$"
      ],
      "text/plain": [
       "3.1688087814029e-23*{ T_{0} \\hspace{ 0.07pt } } - 3.1688087814029e-23*{T}(N.x, N.y) + 1.26752351256116e-21"
      ]
     },
     "execution_count": 14,
     "metadata": {},
     "output_type": "execute_result"
    }
   ],
   "source": [
    "density_fn"
   ]
  },
  {
   "cell_type": "code",
   "execution_count": 15,
   "id": "81fcdf68-64aa-4f66-918e-0b0c64048047",
   "metadata": {},
   "outputs": [],
   "source": [
    "stokes.bodyforce = sympy.Matrix([0, -1*density_fn*gravity])"
   ]
  },
  {
   "cell_type": "code",
   "execution_count": 16,
   "id": "80b0286b-d853-4dc5-b5b1-04e6cd7c01f2",
   "metadata": {},
   "outputs": [
    {
     "data": {
      "text/markdown": [
       "**Class**: <class 'underworld3.systems.solvers.SNES_Stokes'>"
      ],
      "text/plain": [
       "<IPython.core.display.Markdown object>"
      ]
     },
     "metadata": {},
     "output_type": "display_data"
    },
    {
     "data": {
      "text/markdown": [
       "### Saddle point system solver"
      ],
      "text/plain": [
       "<IPython.core.display.Markdown object>"
      ]
     },
     "metadata": {},
     "output_type": "display_data"
    },
    {
     "data": {
      "text/markdown": [
       "Primary problem: "
      ],
      "text/plain": [
       "<IPython.core.display.Markdown object>"
      ]
     },
     "metadata": {},
     "output_type": "display_data"
    },
    {
     "data": {
      "text/latex": [
       "$\\tiny \\quad \\nabla \\cdot \\color{Blue}\\left[\\begin{matrix}2 { \\eta \\hspace{ 0.02pt } } {v}_{ 0,0}(\\mathbf{x}) - {p}(\\mathbf{x}) & { \\eta \\hspace{ 0.02pt } } \\left({v}_{ 0,1}(\\mathbf{x}) + {v}_{ 1,0}(\\mathbf{x})\\right)\\\\{ \\eta \\hspace{ 0.02pt } } \\left({v}_{ 0,1}(\\mathbf{x}) + {v}_{ 1,0}(\\mathbf{x})\\right) & 2 { \\eta \\hspace{ 0.02pt } } {v}_{ 1,1}(\\mathbf{x}) - {p}(\\mathbf{x})\\end{matrix}\\right]$ + "
      ],
      "text/plain": [
       "<IPython.core.display.Latex object>"
      ]
     },
     "metadata": {},
     "output_type": "display_data"
    },
    {
     "data": {
      "text/latex": [
       "$\\tiny \\phantom{ \\quad \\nabla \\cdot} \\color{DarkRed}\\left[\\begin{matrix}0\\\\- { g \\hspace{ 0.08pt } } \\left(- 3.1688087814029 \\cdot 10^{-23} { T_{0} \\hspace{ 0.07pt } } + 3.1688087814029 \\cdot 10^{-23} {T}(\\mathbf{x}) - 1.26752351256116 \\cdot 10^{-21}\\right)\\end{matrix}\\right]\\color{Black} = 0 $"
      ],
      "text/plain": [
       "<IPython.core.display.Latex object>"
      ]
     },
     "metadata": {},
     "output_type": "display_data"
    },
    {
     "data": {
      "text/markdown": [
       "Constraint: "
      ],
      "text/plain": [
       "<IPython.core.display.Markdown object>"
      ]
     },
     "metadata": {},
     "output_type": "display_data"
    },
    {
     "data": {
      "text/latex": [
       "$\\tiny \\phantom{ \\quad \\nabla \\cdot} \\left[\\begin{matrix}{v}_{ 0,0}(\\mathbf{x}) + {v}_{ 1,1}(\\mathbf{x})\\end{matrix}\\right] = 0 $"
      ],
      "text/plain": [
       "<IPython.core.display.Latex object>"
      ]
     },
     "metadata": {},
     "output_type": "display_data"
    },
    {
     "data": {
      "text/markdown": [
       "*Where:*"
      ],
      "text/plain": [
       "<IPython.core.display.Markdown object>"
      ]
     },
     "metadata": {},
     "output_type": "display_data"
    },
    {
     "data": {
      "text/latex": [
       "$\\quad$$\\displaystyle { \\eta \\hspace{ 0.02pt } }$$=$$\\displaystyle { \\eta \\hspace{ 0.03pt } }$"
      ],
      "text/plain": [
       "<IPython.core.display.Latex object>"
      ]
     },
     "metadata": {},
     "output_type": "display_data"
    },
    {
     "data": {
      "text/latex": [
       "$\\quad$$\\displaystyle { T_{0} \\hspace{ 0.07pt } }$$=$$\\displaystyle 0.27315$"
      ],
      "text/plain": [
       "<IPython.core.display.Latex object>"
      ]
     },
     "metadata": {},
     "output_type": "display_data"
    },
    {
     "data": {
      "text/latex": [
       "$\\quad$$\\displaystyle { g \\hspace{ 0.08pt } }$$=$$\\displaystyle 9.7696035752256 \\cdot 10^{21}$"
      ],
      "text/plain": [
       "<IPython.core.display.Latex object>"
      ]
     },
     "metadata": {},
     "output_type": "display_data"
    },
    {
     "data": {
      "text/latex": [
       "$\\quad$$\\displaystyle { \\uplambda \\hspace{ 0.0pt } }$$=$$\\displaystyle 0$"
      ],
      "text/plain": [
       "<IPython.core.display.Latex object>"
      ]
     },
     "metadata": {},
     "output_type": "display_data"
    },
    {
     "data": {
      "text/markdown": [
       "#### Boundary Conditions"
      ],
      "text/plain": [
       "<IPython.core.display.Markdown object>"
      ]
     },
     "metadata": {},
     "output_type": "display_data"
    },
    {
     "data": {
      "text/markdown": [
       "| Type   | Boundary | Expression | \n",
       "|:------------------------ | -------- | ---------- | \n"
      ],
      "text/plain": [
       "<IPython.core.display.Markdown object>"
      ]
     },
     "metadata": {},
     "output_type": "display_data"
    },
    {
     "data": {
      "text/markdown": [
       "This solver is formulated as a 2 dimensional problem with a 2 dimensional mesh"
      ],
      "text/plain": [
       "<IPython.core.display.Markdown object>"
      ]
     },
     "metadata": {},
     "output_type": "display_data"
    }
   ],
   "source": [
    "stokes.view()"
   ]
  },
  {
   "cell_type": "markdown",
   "id": "91fc9639-697a-44fb-81cf-1696d6d037be",
   "metadata": {},
   "source": [
    "### Setting up boundary coniditions\n",
    "Free slip everywhere"
   ]
  },
  {
   "cell_type": "code",
   "execution_count": 17,
   "id": "899ed6be-0c75-4bc0-8c34-349669a60ce7",
   "metadata": {},
   "outputs": [],
   "source": [
    "v_0 = uw.function.expression(\n",
    "                    r'v_{0}',\n",
    "                    sym=0.,\n",
    "                    description=\"zero velocity component\"\n",
    ")"
   ]
  },
  {
   "cell_type": "code",
   "execution_count": 18,
   "id": "3b735076",
   "metadata": {},
   "outputs": [],
   "source": [
    "# Add boundary conditions\n",
    "stokes.add_essential_bc([None, v_0], \"Bottom\")\n",
    "stokes.add_essential_bc([None, v_0], \"Top\"  )\n",
    "\n",
    "stokes.add_essential_bc([v_0, None], \"Left\")\n",
    "stokes.add_essential_bc([v_0, None], \"Right\"  )\n",
    "\n",
    "\n"
   ]
  },
  {
   "cell_type": "markdown",
   "id": "a57b379f-3ebb-4ee7-8b9a-b303d4f3c342",
   "metadata": {},
   "source": [
    "#### Setup the advection-diffusion solver"
   ]
  },
  {
   "cell_type": "code",
   "execution_count": 19,
   "id": "7e0ce41f-1733-49a1-9873-2f0991d4836d",
   "metadata": {},
   "outputs": [],
   "source": [
    "advDiff = uw.systems.AdvDiffusion(mesh, T_soln, v_soln)\n",
    "advDiff.constitutive_model = uw.constitutive_models.DiffusionModel"
   ]
  },
  {
   "cell_type": "code",
   "execution_count": 20,
   "id": "23bb2f05-99d2-4276-8ea1-8c9c4be9c72b",
   "metadata": {},
   "outputs": [],
   "source": [
    "# Set the diffusivity\n",
    "kappa = uw.function.expression(\n",
    "                    r'\\upkappa',\n",
    "                    sym=nd(1.0e-6 * u.meter**2 / u.second),\n",
    "                    description=\"thermal diffusivity\"\n",
    "                        )\n",
    "\n",
    "advDiff.constitutive_model.Parameters.diffusivity = kappa"
   ]
  },
  {
   "cell_type": "code",
   "execution_count": 21,
   "id": "075e8835-0918-4a55-a79b-fbfa5866eea6",
   "metadata": {},
   "outputs": [],
   "source": [
    "T_t = uw.function.expression(\n",
    "                    r'T_t',\n",
    "                    sym=nd(tempMin),\n",
    "                    description=\"top temperature\"\n",
    "                        )\n",
    "\n",
    "T_b = uw.function.expression(\n",
    "                    r'T_b',\n",
    "                    sym=nd(tempMax),\n",
    "                    description=\"base temperature\"\n",
    "                        )"
   ]
  },
  {
   "cell_type": "code",
   "execution_count": 22,
   "id": "60454753-e302-4ad9-8715-d2459bcd24cc",
   "metadata": {},
   "outputs": [],
   "source": [
    "# Add boundary conditions\n",
    "advDiff.add_essential_bc([T_b], \"Bottom\")\n",
    "advDiff.add_essential_bc([T_t], \"Top\"  )"
   ]
  },
  {
   "cell_type": "code",
   "execution_count": 23,
   "id": "3ccb845d-ccbe-4669-bd81-cf5d9b979ddd",
   "metadata": {},
   "outputs": [
    {
     "data": {
      "text/plain": [
       "0.27314999999999995"
      ]
     },
     "execution_count": 23,
     "metadata": {},
     "output_type": "execute_result"
    }
   ],
   "source": [
    "nd(tempMin)"
   ]
  },
  {
   "cell_type": "code",
   "execution_count": 24,
   "id": "f3fd80b5-5edd-4a5a-9ddb-10c14e5651e4",
   "metadata": {},
   "outputs": [
    {
     "name": "stdout",
     "output_type": "stream",
     "text": [
      "1.27315\n"
     ]
    }
   ],
   "source": [
    "pertStrength = nd(200. * u.kilometer)\n",
    "deltaTemp = nd(tempMax) - nd(tempMin)\n",
    "\n",
    "x, y = mesh.X\n",
    "\n",
    "pertCoeff = sympy.cos( sympy.pi * x ) * sympy.sin( sympy.pi * y )\n",
    "\n",
    "tempFn = nd(tempMin) + deltaTemp*(nd(boxHeight) - y) + pertStrength * pertCoeff\n",
    "\n",
    "\n",
    "\n",
    "with mesh.access(T_soln):\n",
    "    T_soln.data[:,0] = 0.\n",
    "    T_soln.data[:,0] = uw.function.evaluate(tempFn, T_soln.coords)\n",
    "    print(T_soln.data.max())\n",
    "                    \n",
    "    T_soln.data[T_soln.data[:,0] > nd(tempMax)] = nd(tempMax)\n",
    "    T_soln.data[T_soln.data[:,0] < nd(tempMin)] = nd(tempMin)\n"
   ]
  },
  {
   "cell_type": "code",
   "execution_count": 25,
   "id": "e89e811b-77b0-47ab-8535-59fcf486cfdc",
   "metadata": {},
   "outputs": [
    {
     "data": {
      "application/vnd.jupyter.widget-view+json": {
       "model_id": "894d8a82c2a14308b28d06670809d7cb",
       "version_major": 2,
       "version_minor": 0
      },
      "text/plain": [
       "Widget(value='<iframe src=\"http://localhost:62395/index.html?ui=P_0x3272ea590_1&reconnect=auto\" class=\"pyvista…"
      ]
     },
     "metadata": {},
     "output_type": "display_data"
    }
   ],
   "source": [
    "from mpi4py import MPI\n",
    "\n",
    "if MPI.COMM_WORLD.size == 1:\n",
    "    \n",
    "    import pyvista as pv\n",
    "    import underworld3.visualisation as vis\n",
    "\n",
    "    pvmesh = vis.mesh_to_pv_mesh(mesh)\n",
    "    pvmesh.point_data[\"T\"] = vis.scalar_fn_to_pv_points(pvmesh, T_soln.sym)\n",
    "\n",
    "    pl = pv.Plotter(window_size=(1000, 500), shape=(1, 1))\n",
    "\n",
    "\n",
    "    pl.add_mesh(\n",
    "        pvmesh,\n",
    "        cmap=\"coolwarm\",\n",
    "        edge_color=\"Black\",\n",
    "        show_edges=True,\n",
    "        scalars=\"T\",\n",
    "        use_transparency=False,\n",
    "        opacity=1,\n",
    "        show_scalar_bar=True,\n",
    "    )\n",
    "\n",
    "    pl.show()\n"
   ]
  },
  {
   "cell_type": "markdown",
   "id": "176b54b9",
   "metadata": {},
   "source": [
    "#### Check the system setup by using view()"
   ]
  },
  {
   "cell_type": "code",
   "execution_count": 26,
   "id": "34f67692-4c1a-48d2-a037-d3b9048585d4",
   "metadata": {},
   "outputs": [
    {
     "data": {
      "text/markdown": [
       "**Class**: <class 'underworld3.systems.solvers.SNES_AdvectionDiffusion'>"
      ],
      "text/plain": [
       "<IPython.core.display.Markdown object>"
      ]
     },
     "metadata": {},
     "output_type": "display_data"
    },
    {
     "data": {
      "text/markdown": [
       "### Poisson system solver"
      ],
      "text/plain": [
       "<IPython.core.display.Markdown object>"
      ]
     },
     "metadata": {},
     "output_type": "display_data"
    },
    {
     "data": {
      "text/markdown": [
       "Primary problem: "
      ],
      "text/plain": [
       "<IPython.core.display.Markdown object>"
      ]
     },
     "metadata": {},
     "output_type": "display_data"
    },
    {
     "data": {
      "text/latex": [
       "$\\tiny \\quad \\nabla \\cdot \\color{Blue}\\left[\\begin{matrix}\\frac{{ \\upkappa \\hspace{ 0.16pt } } {T}_{,0}(\\mathbf{x})}{2} + \\frac{{{ {F[ {T} ] }^{ * } }}_{ 0 }(\\mathbf{x})}{2} & \\frac{{ \\upkappa \\hspace{ 0.16pt } } {T}_{,1}(\\mathbf{x})}{2} + \\frac{{{ {F[ {T} ] }^{ * } }}_{ 1 }(\\mathbf{x})}{2}\\end{matrix}\\right]$ + "
      ],
      "text/plain": [
       "<IPython.core.display.Latex object>"
      ]
     },
     "metadata": {},
     "output_type": "display_data"
    },
    {
     "data": {
      "text/latex": [
       "$\\tiny \\phantom{ \\quad \\nabla \\cdot} \\color{DarkRed}\\left[\\begin{matrix}\\frac{{T}(\\mathbf{x}) - {{ {T}^{ * } }}(\\mathbf{x})}{{ \\Delta t \\hspace{ 0.15pt } }}\\end{matrix}\\right]\\color{Black} = 0 $"
      ],
      "text/plain": [
       "<IPython.core.display.Latex object>"
      ]
     },
     "metadata": {},
     "output_type": "display_data"
    },
    {
     "data": {
      "text/markdown": [
       "*Where:*"
      ],
      "text/plain": [
       "<IPython.core.display.Markdown object>"
      ]
     },
     "metadata": {},
     "output_type": "display_data"
    },
    {
     "data": {
      "text/latex": [
       "$\\quad$$\\displaystyle { \\upkappa \\hspace{ 0.16pt } }$$=$$\\displaystyle { \\upkappa \\hspace{ 0.17pt } }$"
      ],
      "text/plain": [
       "<IPython.core.display.Latex object>"
      ]
     },
     "metadata": {},
     "output_type": "display_data"
    },
    {
     "data": {
      "text/latex": [
       "$\\quad$$\\displaystyle { \\Delta t \\hspace{ 0.15pt } }$$=$$\\displaystyle 0$"
      ],
      "text/plain": [
       "<IPython.core.display.Latex object>"
      ]
     },
     "metadata": {},
     "output_type": "display_data"
    },
    {
     "data": {
      "text/markdown": [
       "#### Boundary Conditions"
      ],
      "text/plain": [
       "<IPython.core.display.Markdown object>"
      ]
     },
     "metadata": {},
     "output_type": "display_data"
    },
    {
     "data": {
      "text/markdown": [
       "| Type   | Boundary | Expression | \n",
       "|:------------------------ | -------- | ---------- | \n",
       "| **essential** | Bottom | $\\left[\\begin{matrix}{ T_b \\hspace{ 0.2pt } }\\end{matrix}\\right]  $ | \n",
       "| **essential** | Top | $\\left[\\begin{matrix}{ T_t \\hspace{ 0.19pt } }\\end{matrix}\\right]  $ | \n"
      ],
      "text/plain": [
       "<IPython.core.display.Markdown object>"
      ]
     },
     "metadata": {},
     "output_type": "display_data"
    },
    {
     "data": {
      "text/markdown": [
       "This solver is formulated as a 2 dimensional problem with a 2 dimensional mesh"
      ],
      "text/plain": [
       "<IPython.core.display.Markdown object>"
      ]
     },
     "metadata": {},
     "output_type": "display_data"
    },
    {
     "data": {
      "text/latex": [
       "$\\quad\\mathrm{u} = $ $\\displaystyle \\left[\\begin{matrix}{T}(\\mathbf{x})\\end{matrix}\\right]$"
      ],
      "text/plain": [
       "<IPython.core.display.Latex object>"
      ]
     },
     "metadata": {},
     "output_type": "display_data"
    },
    {
     "data": {
      "text/latex": [
       "$\\quad\\mathbf{v} = $ $\\displaystyle \\left[\\begin{matrix}{v}_{ 0 }(\\mathbf{x}) & {v}_{ 1 }(\\mathbf{x})\\end{matrix}\\right]$"
      ],
      "text/plain": [
       "<IPython.core.display.Latex object>"
      ]
     },
     "metadata": {},
     "output_type": "display_data"
    },
    {
     "data": {
      "text/latex": [
       "$\\quad\\Delta t = $ $\\displaystyle { \\Delta t \\hspace{ 0.15pt } }$"
      ],
      "text/plain": [
       "<IPython.core.display.Latex object>"
      ]
     },
     "metadata": {},
     "output_type": "display_data"
    }
   ],
   "source": [
    "advDiff.view()"
   ]
  },
  {
   "cell_type": "code",
   "execution_count": 27,
   "id": "1a247c93",
   "metadata": {},
   "outputs": [
    {
     "data": {
      "text/markdown": [
       "**Class**: <class 'underworld3.systems.solvers.SNES_Stokes'>"
      ],
      "text/plain": [
       "<IPython.core.display.Markdown object>"
      ]
     },
     "metadata": {},
     "output_type": "display_data"
    },
    {
     "data": {
      "text/markdown": [
       "### Saddle point system solver"
      ],
      "text/plain": [
       "<IPython.core.display.Markdown object>"
      ]
     },
     "metadata": {},
     "output_type": "display_data"
    },
    {
     "data": {
      "text/markdown": [
       "Primary problem: "
      ],
      "text/plain": [
       "<IPython.core.display.Markdown object>"
      ]
     },
     "metadata": {},
     "output_type": "display_data"
    },
    {
     "data": {
      "text/latex": [
       "$\\tiny \\quad \\nabla \\cdot \\color{Blue}\\left[\\begin{matrix}2 { \\eta \\hspace{ 0.02pt } } {v}_{ 0,0}(\\mathbf{x}) - {p}(\\mathbf{x}) & { \\eta \\hspace{ 0.02pt } } \\left({v}_{ 0,1}(\\mathbf{x}) + {v}_{ 1,0}(\\mathbf{x})\\right)\\\\{ \\eta \\hspace{ 0.02pt } } \\left({v}_{ 0,1}(\\mathbf{x}) + {v}_{ 1,0}(\\mathbf{x})\\right) & 2 { \\eta \\hspace{ 0.02pt } } {v}_{ 1,1}(\\mathbf{x}) - {p}(\\mathbf{x})\\end{matrix}\\right]$ + "
      ],
      "text/plain": [
       "<IPython.core.display.Latex object>"
      ]
     },
     "metadata": {},
     "output_type": "display_data"
    },
    {
     "data": {
      "text/latex": [
       "$\\tiny \\phantom{ \\quad \\nabla \\cdot} \\color{DarkRed}\\left[\\begin{matrix}0\\\\- { g \\hspace{ 0.08pt } } \\left(- 3.1688087814029 \\cdot 10^{-23} { T_{0} \\hspace{ 0.07pt } } + 3.1688087814029 \\cdot 10^{-23} {T}(\\mathbf{x}) - 1.26752351256116 \\cdot 10^{-21}\\right)\\end{matrix}\\right]\\color{Black} = 0 $"
      ],
      "text/plain": [
       "<IPython.core.display.Latex object>"
      ]
     },
     "metadata": {},
     "output_type": "display_data"
    },
    {
     "data": {
      "text/markdown": [
       "Constraint: "
      ],
      "text/plain": [
       "<IPython.core.display.Markdown object>"
      ]
     },
     "metadata": {},
     "output_type": "display_data"
    },
    {
     "data": {
      "text/latex": [
       "$\\tiny \\phantom{ \\quad \\nabla \\cdot} \\left[\\begin{matrix}{v}_{ 0,0}(\\mathbf{x}) + {v}_{ 1,1}(\\mathbf{x})\\end{matrix}\\right] = 0 $"
      ],
      "text/plain": [
       "<IPython.core.display.Latex object>"
      ]
     },
     "metadata": {},
     "output_type": "display_data"
    },
    {
     "data": {
      "text/markdown": [
       "*Where:*"
      ],
      "text/plain": [
       "<IPython.core.display.Markdown object>"
      ]
     },
     "metadata": {},
     "output_type": "display_data"
    },
    {
     "data": {
      "text/latex": [
       "$\\quad$$\\displaystyle { \\eta \\hspace{ 0.02pt } }$$=$$\\displaystyle { \\eta \\hspace{ 0.03pt } }$"
      ],
      "text/plain": [
       "<IPython.core.display.Latex object>"
      ]
     },
     "metadata": {},
     "output_type": "display_data"
    },
    {
     "data": {
      "text/latex": [
       "$\\quad$$\\displaystyle { T_{0} \\hspace{ 0.07pt } }$$=$$\\displaystyle 0.27315$"
      ],
      "text/plain": [
       "<IPython.core.display.Latex object>"
      ]
     },
     "metadata": {},
     "output_type": "display_data"
    },
    {
     "data": {
      "text/latex": [
       "$\\quad$$\\displaystyle { g \\hspace{ 0.08pt } }$$=$$\\displaystyle 9.7696035752256 \\cdot 10^{21}$"
      ],
      "text/plain": [
       "<IPython.core.display.Latex object>"
      ]
     },
     "metadata": {},
     "output_type": "display_data"
    },
    {
     "data": {
      "text/latex": [
       "$\\quad$$\\displaystyle { \\uplambda \\hspace{ 0.0pt } }$$=$$\\displaystyle 0$"
      ],
      "text/plain": [
       "<IPython.core.display.Latex object>"
      ]
     },
     "metadata": {},
     "output_type": "display_data"
    },
    {
     "data": {
      "text/markdown": [
       "#### Boundary Conditions"
      ],
      "text/plain": [
       "<IPython.core.display.Markdown object>"
      ]
     },
     "metadata": {},
     "output_type": "display_data"
    },
    {
     "data": {
      "text/markdown": [
       "| Type   | Boundary | Expression | \n",
       "|:------------------------ | -------- | ---------- | \n",
       "| **essential** | Bottom | $\\left[\\begin{matrix}\\infty & { v_{0} \\hspace{ 0.14pt } }\\end{matrix}\\right]  $ | \n",
       "| **essential** | Top | $\\left[\\begin{matrix}\\infty & { v_{0} \\hspace{ 0.14pt } }\\end{matrix}\\right]  $ | \n",
       "| **essential** | Left | $\\left[\\begin{matrix}{ v_{0} \\hspace{ 0.14pt } } & \\infty\\end{matrix}\\right]  $ | \n",
       "| **essential** | Right | $\\left[\\begin{matrix}{ v_{0} \\hspace{ 0.14pt } } & \\infty\\end{matrix}\\right]  $ | \n"
      ],
      "text/plain": [
       "<IPython.core.display.Markdown object>"
      ]
     },
     "metadata": {},
     "output_type": "display_data"
    },
    {
     "data": {
      "text/markdown": [
       "This solver is formulated as a 2 dimensional problem with a 2 dimensional mesh"
      ],
      "text/plain": [
       "<IPython.core.display.Markdown object>"
      ]
     },
     "metadata": {},
     "output_type": "display_data"
    }
   ],
   "source": [
    "stokes.view()"
   ]
  },
  {
   "cell_type": "markdown",
   "id": "49f8ea1a-e39a-4206-96ae-789ed85a3510",
   "metadata": {},
   "source": [
    "##### Solve the system"
   ]
  },
  {
   "cell_type": "code",
   "execution_count": 28,
   "id": "6aec7759-7cd0-4888-93e7-30e430404af6",
   "metadata": {},
   "outputs": [],
   "source": [
    "stokes.petsc_options[\"snes_converged_reason\"] = None\n",
    "advDiff.petsc_options[\"snes_converged_reason\"] = None"
   ]
  },
  {
   "cell_type": "code",
   "execution_count": 29,
   "id": "d07ee78e-81d0-4a2f-a8df-556ed2d17f1d",
   "metadata": {},
   "outputs": [],
   "source": [
    "time = 0.\n",
    "step = 0"
   ]
  },
  {
   "cell_type": "code",
   "execution_count": 30,
   "id": "67bbe2a0",
   "metadata": {},
   "outputs": [
    {
     "name": "stdout",
     "output_type": "stream",
     "text": [
      "step = 0, time = 0.0 megayear\n",
      "  Nonlinear Solver_4_ solve converged due to CONVERGED_FNORM_RELATIVE iterations 1\n",
      "  Nonlinear Solver_21_ solve converged due to CONVERGED_FNORM_RELATIVE iterations 1\n",
      "step = 1, time = 22.11919963402177 megayear\n",
      "  Nonlinear Solver_4_ solve converged due to CONVERGED_FNORM_RELATIVE iterations 1\n",
      "  Nonlinear Solver_21_ solve converged due to CONVERGED_FNORM_RELATIVE iterations 1\n",
      "step = 2, time = 41.44260821594348 megayear\n",
      "  Nonlinear Solver_4_ solve converged due to CONVERGED_FNORM_RELATIVE iterations 1\n",
      "  Nonlinear Solver_21_ solve converged due to CONVERGED_FNORM_RELATIVE iterations 1\n",
      "step = 3, time = 58.57190491417184 megayear\n",
      "  Nonlinear Solver_4_ solve converged due to CONVERGED_FNORM_RELATIVE iterations 1\n",
      "  Nonlinear Solver_21_ solve converged due to CONVERGED_FNORM_RELATIVE iterations 1\n",
      "step = 4, time = 74.02477537435827 megayear\n",
      "  Nonlinear Solver_4_ solve converged due to CONVERGED_FNORM_RELATIVE iterations 1\n",
      "  Nonlinear Solver_21_ solve converged due to CONVERGED_FNORM_RELATIVE iterations 1\n"
     ]
    }
   ],
   "source": [
    "# Solve the system n times\n",
    "for nsteps in range(5):\n",
    "\n",
    "    print(f'step = {step}, time = {dim(time, u.megayear)}')\n",
    "    \n",
    "    stokes.solve(zero_init_guess=True)\n",
    "    dt = stokes.estimate_dt()\n",
    "    ### advect particles\n",
    "    advDiff.solve(timestep=dt)\n",
    "    \n",
    "    step += 1\n",
    "    time += dt"
   ]
  },
  {
   "cell_type": "markdown",
   "id": "ded6d765-11dd-45b5-978f-d1e9034ec0c0",
   "metadata": {},
   "source": [
    "### Visualise the temperature field"
   ]
  },
  {
   "cell_type": "code",
   "execution_count": 40,
   "id": "6dccf566-8505-4a6e-94a7-f2869b73e3ff",
   "metadata": {
    "editable": true,
    "slideshow": {
     "slide_type": ""
    },
    "tags": []
   },
   "outputs": [
    {
     "data": {
      "application/vnd.jupyter.widget-view+json": {
       "model_id": "534d3693d4c549c78f6cf1edee1a1c3d",
       "version_major": 2,
       "version_minor": 0
      },
      "text/plain": [
       "Widget(value='<iframe src=\"http://localhost:62395/index.html?ui=P_0x333407d90_11&reconnect=auto\" class=\"pyvist…"
      ]
     },
     "metadata": {},
     "output_type": "display_data"
    }
   ],
   "source": [
    "from mpi4py import MPI\n",
    "\n",
    "if MPI.COMM_WORLD.size == 1:\n",
    "    \n",
    "    import pyvista as pv\n",
    "    import underworld3.visualisation as vis\n",
    "\n",
    "    pvmesh = vis.mesh_to_pv_mesh(mesh)\n",
    "    pvmesh.point_data[\"V\"] = uw.visualisation.vector_fn_to_pv_points(pvmesh, v_soln.sym)\n",
    "    pvmesh.point_data[\"T\"] = uw.visualisation.scalar_fn_to_pv_points(pvmesh, T_soln.sym)\n",
    "\n",
    "    velocity_points = uw.visualisation.meshVariable_to_pv_cloud(v_soln)\n",
    "    velocity_points.point_data[\"V\"] = uw.visualisation.vector_fn_to_pv_points(velocity_points, v_soln.sym)\n",
    "\n",
    "\n",
    "    pl = pv.Plotter(window_size=(1000, 500), shape=(1, 1))\n",
    "\n",
    "\n",
    "    pl.add_mesh(\n",
    "        pvmesh,\n",
    "        cmap=\"coolwarm\",\n",
    "        edge_color=\"Black\",\n",
    "        show_edges=True,\n",
    "        scalars=\"T\",\n",
    "        use_transparency=False,\n",
    "        opacity=1,\n",
    "        show_scalar_bar=True,\n",
    "    )\n",
    "\n",
    "    arrows = pl.add_arrows(velocity_points.points, velocity_points.point_data[\"V\"], mag=2e2, opacity=0.1, show_scalar_bar=False)\n",
    "\n",
    "    pl.show()"
   ]
  },
  {
   "cell_type": "code",
   "execution_count": null,
   "id": "026d073e-85fb-486b-833d-0b77073e45e0",
   "metadata": {},
   "outputs": [],
   "source": []
  }
 ],
 "metadata": {
  "kernelspec": {
   "display_name": "Python 3 (ipykernel)",
   "language": "python",
   "name": "python3"
  },
  "language_info": {
   "codemirror_mode": {
    "name": "ipython",
    "version": 3
   },
   "file_extension": ".py",
   "mimetype": "text/x-python",
   "name": "python",
   "nbconvert_exporter": "python",
   "pygments_lexer": "ipython3",
   "version": "3.10.14"
  }
 },
 "nbformat": 4,
 "nbformat_minor": 5
}
