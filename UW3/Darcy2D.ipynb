{
 "cells": [
  {
   "cell_type": "code",
   "execution_count": 1,
   "id": "94e68eb7-a072-4188-a2f2-c0a7fe0e9de7",
   "metadata": {},
   "outputs": [],
   "source": [
    "\n",
    "\n",
    "# # Underworld Groundwater Flow Benchmark 1\n",
    "#\n",
    "# See the Underworld2 example by Adam Beall.\n",
    "#\n",
    "# Flow driven by gravity and topography. We check the flow for constant permeability and for exponentially decreasing permeability as a function of depth.\n",
    "#\n",
    "# *Note*, this benchmark is a bit problematic because the surface shape is not really\n",
    "# consistent with the sidewall boundary conditions - zero gradients at the vertical boundaries.If we replace the sin(x) term with cos(x) to describe the surface then it works a little better because there is no kink in the surface topography at the walls.\n",
    "#\n",
    "# *Note*, there is not an obvious way in pyvista to make the streamlines smaller / shorter / fainter where flow rates are very low so the visualisation is a little misleading right now.\n",
    "#\n",
    "\n",
    "# to fix trame issue\n",
    "import nest_asyncio\n",
    "nest_asyncio.apply()\n",
    "\n",
    "# %%\n",
    "from petsc4py import PETSc\n",
    "import underworld3 as uw\n",
    "import numpy as np\n",
    "import sympy\n",
    "\n",
    "options = PETSc.Options()\n",
    "\n",
    "# %%\n",
    "mesh = uw.meshing.UnstructuredSimplexBox(\n",
    "    minCoords=(0.0, 0.0), maxCoords=(4.0, 1.0), cellSize=0.05, qdegree=3\n",
    ")\n",
    "\n",
    "p_soln = uw.discretisation.MeshVariable(\"P\", mesh, 1, degree=2)\n",
    "v_soln = uw.discretisation.MeshVariable(\"U\", mesh, mesh.dim, degree=1, continuous=False)"
   ]
  },
  {
   "cell_type": "code",
   "execution_count": 2,
   "id": "7fdc4072-cb1a-4f16-97e0-39b41f1f0b1c",
   "metadata": {},
   "outputs": [],
   "source": [
    "# Mesh deformation\n",
    "\n",
    "x, y = mesh.X\n",
    "\n",
    "h_fn = 1.0 + x * 0.2 / 4 + 0.04 * sympy.cos(2.0 * np.pi * x) * y\n",
    "\n",
    "new_coords = mesh.data.copy()\n",
    "new_coords[:, 1] = uw.function.evaluate(h_fn * y, mesh.data, mesh.N)\n",
    "\n",
    "mesh.deform_mesh(new_coords=new_coords)"
   ]
  },
  {
   "cell_type": "code",
   "execution_count": 3,
   "id": "41633384-7a08-4537-99b5-43408a2c3496",
   "metadata": {},
   "outputs": [
    {
     "data": {
      "application/vnd.jupyter.widget-view+json": {
       "model_id": "fa24d5b214774f549a8adab2b9f197f3",
       "version_major": 2,
       "version_minor": 0
      },
      "text/plain": [
       "Widget(value='<iframe src=\"/user/underworld-comm-w-demo-launcher-mlgr2z0l/proxy/37109/index.html?ui=P_0x7a4c75…"
      ]
     },
     "metadata": {},
     "output_type": "display_data"
    }
   ],
   "source": [
    "# %%\n",
    "if uw.mpi.size == 1 and uw.is_notebook:\n",
    "    import pyvista as pv\n",
    "    import underworld3.visualisation as vis\n",
    "\n",
    "    pvmesh = vis.mesh_to_pv_mesh(mesh)\n",
    "\n",
    "    pl = pv.Plotter(window_size=(1000, 500), shape=(1, 1))\n",
    "\n",
    "\n",
    "    pl.add_mesh(\n",
    "        pvmesh,\n",
    "        cmap=\"coolwarm\",\n",
    "        edge_color=\"Black\",\n",
    "        show_edges=True,\n",
    "        use_transparency=False,\n",
    "        opacity=1,\n",
    "        show_scalar_bar=True,\n",
    "    )\n",
    "\n",
    "    pl.show()\n"
   ]
  },
  {
   "cell_type": "code",
   "execution_count": 4,
   "id": "70e7e7c1-1910-44ae-b012-2fe213abe085",
   "metadata": {},
   "outputs": [],
   "source": [
    "# %%\n",
    "# Create Poisson object\n",
    "darcy = uw.systems.SteadyStateDarcy(mesh, h_Field=p_soln, v_Field=v_soln)\n",
    "darcy.constitutive_model = uw.constitutive_models.DarcyFlowModel\n",
    "darcy.constitutive_model.Parameters.permeability = 1\n",
    "darcy.petsc_options.delValue(\"ksp_monitor\")"
   ]
  },
  {
   "cell_type": "code",
   "execution_count": 5,
   "id": "ced48737-2d7d-42e2-ba12-5c0fba7ca843",
   "metadata": {},
   "outputs": [],
   "source": [
    "# Set parameters for darcy equation.\n",
    "\n",
    "k = sympy.exp(-2.0 * 2.302585 * (h_fn - y))  # powers of 10\n",
    "darcy.constitutive_model.Parameters.permeability = k\n",
    "\n",
    "darcy.f = 0.0\n",
    "darcy.constitutive_model.Parameters.s = sympy.Matrix([0, -1]).T\n",
    "\n",
    "darcy.add_dirichlet_bc(0.0, \"Top\")\n",
    "\n",
    "# Zero pressure gradient at sides / base (implied bc)\n",
    "\n",
    "darcy._v_projector.smoothing = 0.0"
   ]
  },
  {
   "cell_type": "code",
   "execution_count": 6,
   "id": "8defcab2-1f65-45ed-ad92-419e180cbb03",
   "metadata": {},
   "outputs": [
    {
     "name": "stdout",
     "output_type": "stream",
     "text": [
      "  0 SNES Function norm 8.120795077184e-02\n",
      "  1 SNES Function norm 4.802698108788e-05\n",
      "  2 SNES Function norm 2.665806323447e-10\n"
     ]
    }
   ],
   "source": [
    "# %%\n",
    "# Solve time\n",
    "darcy.petsc_options.setValue(\"snes_monitor\", None)\n",
    "darcy.solve(verbose=False)"
   ]
  },
  {
   "cell_type": "code",
   "execution_count": 7,
   "id": "68fc72b4-f5c4-42a1-aa51-b58075f3bb48",
   "metadata": {},
   "outputs": [
    {
     "name": "stderr",
     "output_type": "stream",
     "text": [
      "/srv/conda/envs/notebook/lib/python3.11/site-packages/pyvista/core/filters/data_set.py:3066: PyVistaDeprecationWarning: ``max_time`` parameter is deprecated.  It will be removed in v0.48\n",
      "  warnings.warn(\n"
     ]
    },
    {
     "data": {
      "application/vnd.jupyter.widget-view+json": {
       "model_id": "708ef6389d4241808b48a4bb71096e2a",
       "version_major": 2,
       "version_minor": 0
      },
      "text/plain": [
       "Widget(value='<iframe src=\"/user/underworld-comm-w-demo-launcher-mlgr2z0l/proxy/37109/index.html?ui=P_0x7a4c7a…"
      ]
     },
     "metadata": {},
     "output_type": "display_data"
    },
    {
     "name": "stdout",
     "output_type": "stream",
     "text": [
      "Max pressure         :   1.165735\n"
     ]
    }
   ],
   "source": [
    "# %%\n",
    "if uw.mpi.size == 1 and uw.is_notebook:\n",
    "\n",
    "    import pyvista as pv\n",
    "    import underworld3.visualisation as vis\n",
    "\n",
    "    pvmesh = vis.mesh_to_pv_mesh(mesh)\n",
    "    pvmesh.point_data[\"V\"] = vis.vector_fn_to_pv_points(pvmesh, v_soln.sym)\n",
    "\n",
    "    pvmesh.point_data[\"P\"] = vis.scalar_fn_to_pv_points(pvmesh, p_soln.sym)\n",
    "    pvmesh.point_data[\"dP\"] = vis.scalar_fn_to_pv_points(pvmesh, p_soln.sym[0] - (h_fn - y))\n",
    "    pvmesh.point_data[\"K\"] = vis.scalar_fn_to_pv_points(pvmesh, k)\n",
    "    pvmesh.point_data[\"S\"] = vis.scalar_fn_to_pv_points(pvmesh, sympy.log(v_soln.sym.dot(v_soln.sym)))\n",
    "\n",
    "    velocity_points = vis.meshVariable_to_pv_cloud(v_soln)\n",
    "    velocity_points.point_data[\"V\"] = vis.vector_fn_to_pv_points(velocity_points, v_soln.sym)\n",
    "\n",
    "    # point sources at cell centres\n",
    "\n",
    "    points = np.zeros((mesh._centroids.shape[0], 3))\n",
    "    points[:, 0] = mesh._centroids[:, 0]\n",
    "    points[:, 1] = mesh._centroids[:, 1]\n",
    "    point_cloud = pv.PolyData(points[::3])\n",
    "\n",
    "    pvstream = pvmesh.streamlines_from_source(\n",
    "                                                point_cloud,\n",
    "                                                vectors=\"V\",\n",
    "                                                integrator_type=45,\n",
    "                                                integration_direction=\"both\",\n",
    "                                                max_steps=1000,\n",
    "                                                max_time=0.2,\n",
    "                                                initial_step_length=0.001,\n",
    "                                                max_step_length=0.01,\n",
    "                                            )\n",
    "\n",
    "    pl = pv.Plotter()\n",
    "\n",
    "    pl.add_mesh(\n",
    "                pvmesh,\n",
    "                cmap=\"coolwarm\",\n",
    "                edge_color=\"Black\",\n",
    "                show_edges=True,\n",
    "                scalars=\"P\",\n",
    "                use_transparency=False,\n",
    "                opacity=1.0,\n",
    "            )\n",
    "\n",
    "    pl.add_arrows(velocity_points.points, velocity_points.point_data[\"V\"], mag=0.5, opacity=0.5)\n",
    "    pl.add_mesh(pvstream, line_width=1.0)\n",
    "    # pl.show(cpos=\"xy\", jupyter_backend=\"html\")\n",
    "    pl.show()\n",
    "#\n",
    "# ## Metrics\n",
    "\n",
    "_, _, _, max_p, _, _, _ = p_soln.stats()\n",
    "\n",
    "\n",
    "print(\"Max pressure         :   {:4f}\".format(max_p))\n"
   ]
  },
  {
   "cell_type": "code",
   "execution_count": null,
   "id": "a53806c9-fda2-414c-8e29-c51bc99f35a9",
   "metadata": {},
   "outputs": [],
   "source": []
  }
 ],
 "metadata": {
  "kernelspec": {
   "display_name": "Python 3 (ipykernel)",
   "language": "python",
   "name": "python3"
  },
  "language_info": {
   "codemirror_mode": {
    "name": "ipython",
    "version": 3
   },
   "file_extension": ".py",
   "mimetype": "text/x-python",
   "name": "python",
   "nbconvert_exporter": "python",
   "pygments_lexer": "ipython3",
   "version": "3.11.0"
  }
 },
 "nbformat": 4,
 "nbformat_minor": 5
}
