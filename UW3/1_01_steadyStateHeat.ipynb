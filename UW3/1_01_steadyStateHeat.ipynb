{
 "cells": [
  {
   "cell_type": "markdown",
   "id": "fb335a3c-a82f-47d4-bdb7-66ea8c77a292",
   "metadata": {
    "editable": true,
    "execution": {
     "iopub.execute_input": "2024-09-18T00:47:06.997985Z",
     "iopub.status.busy": "2024-09-18T00:47:06.997695Z",
     "iopub.status.idle": "2024-09-18T00:47:07.003693Z",
     "shell.execute_reply": "2024-09-18T00:47:07.002300Z",
     "shell.execute_reply.started": "2024-09-18T00:47:06.997959Z"
    },
    "slideshow": {
     "slide_type": ""
    },
    "tags": []
   },
   "source": [
    "Steady state heat equation\n",
    "======\n",
    "\n",
    "This notebook will setup and solve the steady state heat equation:\n",
    "\n",
    "$$\n",
    "\\nabla(k\\nabla u) = f\n",
    "$$\n",
    "\n",
    "where $k$ is the diffusivity, T the temperature field and $h$ the source term.\n",
    "\n",
    "**Keywords:** initial conditions, boundary conditions, heat equation"
   ]
  },
  {
   "cell_type": "code",
   "execution_count": 1,
   "id": "28067190-5d89-401b-8fb6-2702b4fbe3b4",
   "metadata": {
    "editable": true,
    "slideshow": {
     "slide_type": ""
    },
    "tags": []
   },
   "outputs": [],
   "source": [
    "#|  echo: false  # Hide in html version\n",
    "\n",
    "# This is required to fix pyvista \n",
    "# (visualisation) crashes in interactive notebooks (including on binder)\n",
    "\n",
    "import nest_asyncio\n",
    "nest_asyncio.apply()"
   ]
  },
  {
   "cell_type": "code",
   "execution_count": 2,
   "id": "042970c2-ab87-4483-b68c-3fe6b8e633a2",
   "metadata": {
    "editable": true,
    "slideshow": {
     "slide_type": ""
    },
    "tags": []
   },
   "outputs": [
    {
     "name": "stderr",
     "output_type": "stream",
     "text": [
      "[MacBook-Pro.local:31665] shmem: mmap: an error occurred while determining whether or not /var/folders/0j/bnxlsh897sl6b1rv06fnt5r80000gp/T//ompi.MacBook-Pro.502/jf.0/2453798912/sm_segment.MacBook-Pro.502.92420000.0 could be created.\n"
     ]
    }
   ],
   "source": [
    "#| output: false # Suppress warnings in html version\n",
    "\n",
    "import underworld3 as uw\n",
    "import numpy as np\n",
    "import sympy"
   ]
  },
  {
   "cell_type": "markdown",
   "id": "8074391b-807b-4c68-bbf7-f3dda7fd7074",
   "metadata": {},
   "source": [
    "#### Setup scaling of model with units"
   ]
  },
  {
   "cell_type": "code",
   "execution_count": 3,
   "id": "c736906b",
   "metadata": {},
   "outputs": [
    {
     "data": {
      "text/html": [
       "<table><tr><td>[mass]</td><td>1.0 kilogram</td></tr><tr><td>[length]</td><td>0.1 meter</td></tr><tr><td>[temperature]</td><td>1330.0 kelvin</td></tr><tr><td>[time]</td><td>31557600.0 second</td></tr><tr><td>[substance]</td><td>1.0 mole</td></tr></table>"
      ],
      "text/plain": [
       "{'[length]': <Quantity(0.1, 'meter')>,\n",
       " '[mass]': <Quantity(1.0, 'kilogram')>,\n",
       " '[time]': <Quantity(31557600.0, 'second')>,\n",
       " '[temperature]': <Quantity(1330.0, 'kelvin')>,\n",
       " '[substance]': <Quantity(1.0, 'mole')>}"
      ]
     },
     "execution_count": 3,
     "metadata": {},
     "output_type": "execute_result"
    }
   ],
   "source": [
    "u = uw.scaling.units\n",
    "\n",
    "### make scaling easier\n",
    "ndim = uw.scaling.non_dimensionalise\n",
    "nd   = uw.scaling.non_dimensionalise\n",
    "dim  = uw.scaling.dimensionalise \n",
    "\n",
    "\n",
    "model_length = 20. * u.centimeter\n",
    "model_height = 10. * u.centimeter\n",
    "top_Temp = 273.15 * u.degK\n",
    "base_Temp = 1603.15 * u.degK\n",
    "\n",
    "KL = model_height\n",
    "KT = (base_Temp - top_Temp)\n",
    "\n",
    "\n",
    "\n",
    "scaling_coefficients  = uw.scaling.get_coefficients()\n",
    "scaling_coefficients[\"[length]\"] = KL\n",
    "scaling_coefficients[\"[temperature]\"]= KT\n",
    "\n",
    "scaling_coefficients"
   ]
  },
  {
   "cell_type": "markdown",
   "id": "635d43b9-9117-42fe-8aa9-12fbbe21bc9a",
   "metadata": {},
   "source": [
    "#### Setup the mesh"
   ]
  },
  {
   "cell_type": "code",
   "execution_count": 4,
   "id": "dbfb8082-a97b-4955-8891-3ed019c4c421",
   "metadata": {
    "editable": true,
    "slideshow": {
     "slide_type": ""
    },
    "tags": []
   },
   "outputs": [
    {
     "name": "stdout",
     "output_type": "stream",
     "text": [
      "Structured box element resolution 32 32\n",
      "\n",
      "\n",
      "Mesh # 0: .meshes/uw_structuredQuadBox_minC(0.0, 0.0)_maxC(2.0, 1.0).msh\n",
      "\n",
      "No variables are defined on the mesh\n",
      "\n",
      "| Boundary Name            | ID    | Min Size | Max Size |\n",
      "| ------------------------------------------------------ |\n",
      "| Bottom                   | 11    | 63       | 63       |\n",
      "| Top                      | 12    | 63       | 63       |\n",
      "| Right                    | 13    | 63       | 63       |\n",
      "| Left                     | 14    | 63       | 63       |\n",
      "| Null_Boundary            | 666   | 1089     | 1089     |\n",
      "| All_Boundaries           | 1001  | 128      | 128      |\n",
      "| All_Boundaries           | 1001  | 128      | 128      |\n",
      "| UW_Boundaries            | --    | 1469     | 1469     |\n",
      "| ------------------------------------------------------ |\n",
      "\n",
      "\n",
      "DM Object: uw_.meshes/uw_structuredQuadBox_minC(0.0, 0.0)_maxC(2.0, 1.0).msh 1 MPI process\n",
      "  type: plex\n",
      "uw_.meshes/uw_structuredQuadBox_minC(0.0, 0.0)_maxC(2.0, 1.0).msh in 2 dimensions:\n",
      "  Number of 0-cells per rank: 1089\n",
      "  Number of 1-cells per rank: 2112\n",
      "  Number of 2-cells per rank: 1024\n",
      "Labels:\n",
      "  depth: 3 strata with value/size (0 (1089), 1 (2112), 2 (1024))\n",
      "  All_Boundaries: 1 strata with value/size (1001 (128))\n",
      "  Bottom: 1 strata with value/size (11 (63))\n",
      "  Elements: 1 strata with value/size (99999 (1985))\n",
      "  Left: 1 strata with value/size (14 (63))\n",
      "  Right: 1 strata with value/size (13 (63))\n",
      "  Top: 1 strata with value/size (12 (63))\n",
      "  celltype: 3 strata with value/size (0 (1089), 1 (2112), 4 (1024))\n",
      "  Null_Boundary: 1 strata with value/size (666 (1089))\n",
      "  UW_Boundaries: 6 strata with value/size (11 (63), 12 (63), 13 (63), 14 (63), 666 (1089), 1001 (128))\n"
     ]
    }
   ],
   "source": [
    "# mesh = uw.meshing.UnstructuredSimplexBox(\n",
    "#             minCoords=(nd(0. * u.centimeter), nd(0. * u.centimeter)), \n",
    "#             maxCoords=(nd(20. * u.centimeter), nd(10. * u.centimeter)),\n",
    "#             cellSize=1 / 12\n",
    "# )\n",
    "\n",
    "mesh = uw.meshing.StructuredQuadBox(\n",
    "            minCoords=(nd(0. * u.centimeter), nd(0. * u.centimeter)), \n",
    "            maxCoords=(nd(20. * u.centimeter), nd(10. * u.centimeter)),\n",
    "            elementRes=(32,32)\n",
    ")\n",
    "\n",
    "x, y = mesh.X\n",
    "\n",
    "mesh.view()"
   ]
  },
  {
   "cell_type": "markdown",
   "id": "fb99ad26-eb66-454e-9f7a-a9b8658d39f9",
   "metadata": {},
   "source": [
    "#### Visualise the mesh"
   ]
  },
  {
   "cell_type": "code",
   "execution_count": 5,
   "id": "f092e224",
   "metadata": {},
   "outputs": [
    {
     "data": {
      "application/vnd.jupyter.widget-view+json": {
       "model_id": "e60629a504ff4f139e90da92d0bfcc9c",
       "version_major": 2,
       "version_minor": 0
      },
      "text/plain": [
       "Widget(value='<iframe src=\"http://localhost:61510/index.html?ui=P_0x318ee0100_0&reconnect=auto\" class=\"pyvista…"
      ]
     },
     "metadata": {},
     "output_type": "display_data"
    }
   ],
   "source": [
    "from mpi4py import MPI\n",
    "\n",
    "if MPI.COMM_WORLD.size == 1:\n",
    "    \n",
    "    import pyvista as pv\n",
    "    import underworld3.visualisation as vis\n",
    "\n",
    "    pvmesh = vis.mesh_to_pv_mesh(mesh)\n",
    "\n",
    "    pl = pv.Plotter(window_size=(1000, 500), shape=(1, 1))\n",
    "\n",
    "\n",
    "    pl.add_mesh(\n",
    "        pvmesh,\n",
    "        cmap=\"coolwarm\",\n",
    "        edge_color=\"Black\",\n",
    "        show_edges=True,\n",
    "        use_transparency=False,\n",
    "        opacity=1,\n",
    "        show_scalar_bar=True,\n",
    "    )\n",
    "\n",
    "    pl.show()\n"
   ]
  },
  {
   "cell_type": "code",
   "execution_count": 6,
   "id": "d2ac5182-8b9f-4852-8e2e-4b0a16808ad0",
   "metadata": {
    "editable": true,
    "slideshow": {
     "slide_type": ""
    },
    "tags": []
   },
   "outputs": [],
   "source": [
    "# mesh variables\n",
    "T_soln = uw.discretisation.MeshVariable(varname=\"T\", mesh=mesh, num_components=1)\n"
   ]
  },
  {
   "cell_type": "markdown",
   "id": "d4a41be4-4e06-4373-aaa0-47c9ae3b998a",
   "metadata": {},
   "source": [
    "### The Poisson Solver\n",
    "\n",
    "There are a number of pre-defined *solver systems* defined in `underworld3` \n",
    "which are templates for orchestrating the underlying PETSc objects. \n",
    "A solver requires us to define the unknown in the form of `meshVariables`, \n",
    "provide boundary conditions, a constitutive model, \n",
    "and provide `uw.functions` to define constitutive\n",
    "properties, and driving terms.\n",
    "\n",
    "We will use the `Poisson` solver for the diffusion equation, and we will \n",
    "use a `Projection` solver to compute the vertical gradient term. \n",
    "\n",
    "The solver classes themselves are documented, so we can figure out what \n",
    "is needed before we define anything:\n"
   ]
  },
  {
   "cell_type": "code",
   "execution_count": 7,
   "id": "4dc10f34-02b3-48cc-9d5c-ecae856d4046",
   "metadata": {},
   "outputs": [
    {
     "data": {
      "text/markdown": [
       "\n",
       "This class provides functionality for a discrete representation\n",
       "of the Poisson equation\n",
       "\n",
       "$$\n",
       "\\nabla \\cdot\n",
       "        \\color{Blue}{\\underbrace{\\Bigl[ \\boldsymbol\\kappa \\nabla u \\Bigr]}_{\\mathbf{F}}} =\n",
       "        \\color{Maroon}{\\underbrace{\\Bigl[ f \\Bigl] }_{\\mathbf{f}}}\n",
       "$$\n",
       "\n",
       "The term $\\mathbf{F}$ relates the flux to gradients in the unknown $u$\n",
       "\n",
       "## Properties\n",
       "\n",
       "  - The unknown is $u$\n",
       "\n",
       "  - The diffusivity tensor, $\\kappa$ is provided by setting the `constitutive_model` property to\n",
       "one of the scalar `uw.constitutive_models` classes and populating the parameters.\n",
       "It is usually a constant or a function of position / time and may also be non-linear\n",
       "or anisotropic.\n",
       "\n",
       "  - $f$ is a volumetric source term\n"
      ],
      "text/plain": [
       "<IPython.core.display.Markdown object>"
      ]
     },
     "metadata": {},
     "output_type": "display_data"
    }
   ],
   "source": [
    "uw.systems.Poisson.view()"
   ]
  },
  {
   "cell_type": "markdown",
   "id": "bec72bde-7e9b-4243-977d-af2abf84b31c",
   "metadata": {},
   "source": [
    "### Constitutive Models\n",
    "\n",
    "Most of the solvers require a constitutive model to be provided and its\n",
    "parameters populated. This is to allow flexibility in defining / redefining \n",
    "solvers during a model calculation.\n",
    "\n",
    "We need a diffusion model. We can look at the documentation first. "
   ]
  },
  {
   "cell_type": "code",
   "execution_count": 8,
   "id": "96e571d8-68d6-4ebd-8233-f0fa2bebfe27",
   "metadata": {},
   "outputs": [
    {
     "data": {
      "text/markdown": [
       "\n",
       "```python\n",
       "class DiffusionModel(Constitutive_Model)\n",
       "...\n",
       "```\n",
       "```python\n",
       "diffusion_model = DiffusionModel(dim)\n",
       "diffusion_model.material_properties = diffusion_model.Parameters(diffusivity=diffusivity_fn)\n",
       "scalar_solver.constititutive_model = diffusion_model\n",
       "```\n",
       "$$q_{i} = \\kappa_{ij} \\cdot \\frac{\\partial \\phi}{\\partial x_j}$$\n",
       "\n",
       "where $\\kappa$ is a diffusivity, a scalar constant, `sympy` function, `underworld` mesh variable or\n",
       "any valid combination of those types. Access the constitutive model using:\n",
       "\n",
       "```python\n",
       "flux = diffusion_model.flux(gradient_matrix)\n",
       "```\n",
       "---\n"
      ],
      "text/plain": [
       "<IPython.core.display.Markdown object>"
      ]
     },
     "metadata": {},
     "output_type": "display_data"
    }
   ],
   "source": [
    "uw.constitutive_models.DiffusionModel.view()"
   ]
  },
  {
   "cell_type": "markdown",
   "id": "8911b4d4-ec12-4416-b07b-9c6be8ad26de",
   "metadata": {},
   "source": [
    "### Problem setup"
   ]
  },
  {
   "cell_type": "code",
   "execution_count": 9,
   "id": "5fa9112a-7900-44ee-9c2e-1e887792bf13",
   "metadata": {
    "editable": true,
    "slideshow": {
     "slide_type": ""
    },
    "tags": []
   },
   "outputs": [],
   "source": [
    "# The steady-state diffusion\n",
    "poisson = uw.systems.Poisson(mesh, u_Field=T_soln)\n",
    "poisson.constitutive_model = uw.constitutive_models.DiffusionModel\n",
    "\n"
   ]
  },
  {
   "cell_type": "code",
   "execution_count": 11,
   "id": "24f2ae4d-1691-479e-a04f-a15158714ef5",
   "metadata": {},
   "outputs": [],
   "source": [
    "# Set the diffusivity\n",
    "kappa = uw.function.expression(\n",
    "                    r'\\upkappa',\n",
    "                    sym=nd(1.0 * u.centimetre**2 / u.hour),\n",
    "                    description=\"thermal diffusivity\"\n",
    "                        )\n",
    "\n",
    "poisson.constitutive_model.Parameters.diffusivity = kappa"
   ]
  },
  {
   "cell_type": "code",
   "execution_count": 12,
   "id": "899ed6be-0c75-4bc0-8c34-349669a60ce7",
   "metadata": {},
   "outputs": [],
   "source": [
    "T_t = uw.function.expression(\n",
    "                    r'T_t',\n",
    "                    sym=nd(top_Temp),\n",
    "                    description=\"top temperature\"\n",
    "                        )\n",
    "\n",
    "T_b = uw.function.expression(\n",
    "                    r'T_b',\n",
    "                    sym=nd(base_Temp),\n",
    "                    description=\"base temperature\"\n",
    "                        )"
   ]
  },
  {
   "cell_type": "code",
   "execution_count": 14,
   "id": "3b735076",
   "metadata": {},
   "outputs": [],
   "source": [
    "# Add boundary conditions\n",
    "poisson.add_essential_bc([T_b], \"Bottom\")\n",
    "poisson.add_essential_bc([T_t], \"Top\"  )"
   ]
  },
  {
   "cell_type": "markdown",
   "id": "176b54b9",
   "metadata": {},
   "source": [
    "#### Check the system setup by using view()"
   ]
  },
  {
   "cell_type": "code",
   "execution_count": 15,
   "id": "1a247c93",
   "metadata": {},
   "outputs": [
    {
     "data": {
      "text/markdown": [
       "**Class**: <class 'underworld3.systems.solvers.SNES_Poisson'>"
      ],
      "text/plain": [
       "<IPython.core.display.Markdown object>"
      ]
     },
     "metadata": {},
     "output_type": "display_data"
    },
    {
     "data": {
      "text/markdown": [
       "### Poisson system solver"
      ],
      "text/plain": [
       "<IPython.core.display.Markdown object>"
      ]
     },
     "metadata": {},
     "output_type": "display_data"
    },
    {
     "data": {
      "text/markdown": [
       "Primary problem: "
      ],
      "text/plain": [
       "<IPython.core.display.Markdown object>"
      ]
     },
     "metadata": {},
     "output_type": "display_data"
    },
    {
     "data": {
      "text/latex": [
       "$\\tiny \\quad \\nabla \\cdot \\color{Blue}\\left[\\begin{matrix}{ \\upkappa \\hspace{ 0.0pt } } {T}_{,0}(\\mathbf{x}) & { \\upkappa \\hspace{ 0.0pt } } {T}_{,1}(\\mathbf{x})\\end{matrix}\\right]$ + "
      ],
      "text/plain": [
       "<IPython.core.display.Latex object>"
      ]
     },
     "metadata": {},
     "output_type": "display_data"
    },
    {
     "data": {
      "text/latex": [
       "$\\tiny \\phantom{ \\quad \\nabla \\cdot} \\color{DarkRed}\\left[\\begin{matrix}0\\end{matrix}\\right]\\color{Black} = 0 $"
      ],
      "text/plain": [
       "<IPython.core.display.Latex object>"
      ]
     },
     "metadata": {},
     "output_type": "display_data"
    },
    {
     "data": {
      "text/markdown": [
       "*Where:*"
      ],
      "text/plain": [
       "<IPython.core.display.Markdown object>"
      ]
     },
     "metadata": {},
     "output_type": "display_data"
    },
    {
     "data": {
      "text/latex": [
       "$\\quad$$\\displaystyle { \\upkappa \\hspace{ 0.0pt } }$$=$$\\displaystyle { \\upkappa \\hspace{ 0.01pt } }$"
      ],
      "text/plain": [
       "<IPython.core.display.Latex object>"
      ]
     },
     "metadata": {},
     "output_type": "display_data"
    },
    {
     "data": {
      "text/markdown": [
       "#### Boundary Conditions"
      ],
      "text/plain": [
       "<IPython.core.display.Markdown object>"
      ]
     },
     "metadata": {},
     "output_type": "display_data"
    },
    {
     "data": {
      "text/markdown": [
       "| Type   | Boundary | Expression | \n",
       "|:------------------------ | -------- | ---------- | \n",
       "| **essential** | Bottom | $\\left[\\begin{matrix}{ T_b \\hspace{ 0.04pt } }\\end{matrix}\\right]  $ | \n",
       "| **essential** | Top | $\\left[\\begin{matrix}{ T_t \\hspace{ 0.03pt } }\\end{matrix}\\right]  $ | \n"
      ],
      "text/plain": [
       "<IPython.core.display.Markdown object>"
      ]
     },
     "metadata": {},
     "output_type": "display_data"
    },
    {
     "data": {
      "text/markdown": [
       "This solver is formulated as a 2 dimensional problem with a 2 dimensional mesh"
      ],
      "text/plain": [
       "<IPython.core.display.Markdown object>"
      ]
     },
     "metadata": {},
     "output_type": "display_data"
    }
   ],
   "source": [
    "poisson.view()"
   ]
  },
  {
   "cell_type": "code",
   "execution_count": 16,
   "id": "67bbe2a0",
   "metadata": {},
   "outputs": [
    {
     "name": "stdout",
     "output_type": "stream",
     "text": [
      "  Nonlinear Solver_2_ solve converged due to CONVERGED_FNORM_RELATIVE iterations 1\n"
     ]
    }
   ],
   "source": [
    "# Solve the system\n",
    "poisson.petsc_options[\"snes_converged_reason\"] = None\n",
    "\n",
    "poisson.solve(zero_init_guess=True)"
   ]
  },
  {
   "cell_type": "markdown",
   "id": "07158c60-7404-4387-962e-0a64d29127f4",
   "metadata": {},
   "source": [
    "#### Check the Jacobian\n",
    "It's a little bit hidden, but is available if you feel like checking:"
   ]
  },
  {
   "cell_type": "code",
   "execution_count": 17,
   "id": "b27c04cd-7192-446b-86e5-3f5a1867045a",
   "metadata": {},
   "outputs": [
    {
     "data": {
      "text/latex": [
       "$\\displaystyle \\left[\\begin{matrix}87.66 & 0\\\\0 & 87.66\\end{matrix}\\right]$"
      ],
      "text/plain": [
       "Matrix([\n",
       "[87.66,     0],\n",
       "[    0, 87.66]])"
      ]
     },
     "metadata": {},
     "output_type": "display_data"
    }
   ],
   "source": [
    "display(poisson._G3)"
   ]
  },
  {
   "cell_type": "markdown",
   "id": "a57183c4-20fa-4648-a047-35eb65b837ee",
   "metadata": {},
   "source": [
    "#### View the result"
   ]
  },
  {
   "cell_type": "code",
   "execution_count": 18,
   "id": "6dccf566-8505-4a6e-94a7-f2869b73e3ff",
   "metadata": {
    "editable": true,
    "slideshow": {
     "slide_type": ""
    },
    "tags": []
   },
   "outputs": [
    {
     "data": {
      "application/vnd.jupyter.widget-view+json": {
       "model_id": "38abe83fe9c54d5ca99f0b7082a09c64",
       "version_major": 2,
       "version_minor": 0
      },
      "text/plain": [
       "Widget(value='<iframe src=\"http://localhost:61510/index.html?ui=P_0x31c24a6e0_1&reconnect=auto\" class=\"pyvista…"
      ]
     },
     "metadata": {},
     "output_type": "display_data"
    }
   ],
   "source": [
    "from mpi4py import MPI\n",
    "\n",
    "if MPI.COMM_WORLD.size == 1:\n",
    "    \n",
    "    import pyvista as pv\n",
    "    import underworld3.visualisation as vis\n",
    "\n",
    "    pvmesh = vis.mesh_to_pv_mesh(mesh)\n",
    "    pvmesh.point_data[\"T\"] = vis.scalar_fn_to_pv_points(pvmesh, T_soln.sym)\n",
    "\n",
    "    pl = pv.Plotter(window_size=(1000, 500), shape=(1, 1))\n",
    "\n",
    "\n",
    "    pl.add_mesh(\n",
    "        pvmesh,\n",
    "        cmap=\"coolwarm\",\n",
    "        edge_color=\"Black\",\n",
    "        show_edges=True,\n",
    "        scalars=\"T\",\n",
    "        use_transparency=False,\n",
    "        opacity=1,\n",
    "        show_scalar_bar=True,\n",
    "    )\n",
    "\n",
    "    pl.show()\n"
   ]
  },
  {
   "cell_type": "code",
   "execution_count": null,
   "id": "f946111c-53e8-4a54-bd37-1ae14a212a05",
   "metadata": {},
   "outputs": [],
   "source": []
  }
 ],
 "metadata": {
  "kernelspec": {
   "display_name": "Python 3 (ipykernel)",
   "language": "python",
   "name": "python3"
  },
  "language_info": {
   "codemirror_mode": {
    "name": "ipython",
    "version": 3
   },
   "file_extension": ".py",
   "mimetype": "text/x-python",
   "name": "python",
   "nbconvert_exporter": "python",
   "pygments_lexer": "ipython3",
   "version": "3.10.14"
  }
 },
 "nbformat": 4,
 "nbformat_minor": 5
}
