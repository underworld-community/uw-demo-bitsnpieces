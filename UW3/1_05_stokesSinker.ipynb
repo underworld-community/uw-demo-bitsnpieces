{
 "cells": [
  {
   "cell_type": "markdown",
   "id": "fb335a3c-a82f-47d4-bdb7-66ea8c77a292",
   "metadata": {
    "editable": true,
    "execution": {
     "iopub.execute_input": "2024-09-18T00:47:06.997985Z",
     "iopub.status.busy": "2024-09-18T00:47:06.997695Z",
     "iopub.status.idle": "2024-09-18T00:47:07.003693Z",
     "shell.execute_reply": "2024-09-18T00:47:07.002300Z",
     "shell.execute_reply.started": "2024-09-18T00:47:06.997959Z"
    },
    "slideshow": {
     "slide_type": ""
    },
    "tags": []
   },
   "source": [
    "# Stokes Sinker\n",
    "\n",
    "Demonstration example for setting up particle swarms with different material properties. This system consists of a dense, high viscosity sphere falling through a background lower density and viscosity fluid.\n",
    "\n",
    "\n",
    "$$\n",
    "\\nabla \\cdot\n",
    "        \\color{Blue}{\\underbrace{\\Bigl[\n",
    "                \\boldsymbol{\\tau} -  p \\mathbf{I} \\Bigr]}_{\\mathbf{F}}} =\n",
    "        \\color{Maroon}{\\underbrace{\\Bigl[ \\mathbf{f} \\Bigl] }_{\\mathbf{h}}}\n",
    "$$\n",
    "\n",
    "$$\n",
    "\\underbrace{\\Bigl[ \\nabla \\cdot \\mathbf{u} \\Bigr]}_{\\mathbf{h}_p} = 0\n",
    "$$"
   ]
  },
  {
   "cell_type": "code",
   "execution_count": 1,
   "id": "28067190-5d89-401b-8fb6-2702b4fbe3b4",
   "metadata": {
    "editable": true,
    "slideshow": {
     "slide_type": ""
    },
    "tags": []
   },
   "outputs": [],
   "source": [
    "#|  echo: false  # Hide in html version\n",
    "\n",
    "# This is required to fix pyvista \n",
    "# (visualisation) crashes in interactive notebooks (including on binder)\n",
    "\n",
    "import nest_asyncio\n",
    "nest_asyncio.apply()"
   ]
  },
  {
   "cell_type": "code",
   "execution_count": 2,
   "id": "042970c2-ab87-4483-b68c-3fe6b8e633a2",
   "metadata": {
    "editable": true,
    "slideshow": {
     "slide_type": ""
    },
    "tags": []
   },
   "outputs": [
    {
     "name": "stderr",
     "output_type": "stream",
     "text": [
      "[MacBook-Pro.local:31565] shmem: mmap: an error occurred while determining whether or not /var/folders/0j/bnxlsh897sl6b1rv06fnt5r80000gp/T//ompi.MacBook-Pro.502/jf.0/148766720/sm_segment.MacBook-Pro.502.8de0000.0 could be created.\n"
     ]
    }
   ],
   "source": [
    "#| output: false # Suppress warnings in html version\n",
    "\n",
    "import underworld3 as uw\n",
    "import numpy as np\n",
    "import sympy"
   ]
  },
  {
   "cell_type": "markdown",
   "id": "9ebfaa06-db80-4336-bbaa-b4a314e7306d",
   "metadata": {},
   "source": [
    "#### Setup scaling of the model"
   ]
  },
  {
   "cell_type": "code",
   "execution_count": 3,
   "id": "c736906b",
   "metadata": {},
   "outputs": [
    {
     "data": {
      "text/html": [
       "<table><tr><td>[mass]</td><td>254275200000000.0 kilogram</td></tr><tr><td>[length]</td><td>1.0 meter</td></tr><tr><td>[temperature]</td><td>1.0 kelvin</td></tr><tr><td>[time]</td><td>360000.0 second</td></tr><tr><td>[substance]</td><td>1.0 mole</td></tr></table>"
      ],
      "text/plain": [
       "{'[length]': <Quantity(1.0, 'meter')>,\n",
       " '[mass]': <Quantity(2.542752e+14, 'kilogram')>,\n",
       " '[time]': <Quantity(360000.0, 'second')>,\n",
       " '[temperature]': <Quantity(1.0, 'kelvin')>,\n",
       " '[substance]': <Quantity(1.0, 'mole')>}"
      ]
     },
     "execution_count": 3,
     "metadata": {},
     "output_type": "execute_result"
    }
   ],
   "source": [
    "u = uw.scaling.units\n",
    "\n",
    "### make scaling easier\n",
    "ndim = uw.scaling.non_dimensionalise\n",
    "nd   = uw.scaling.non_dimensionalise\n",
    "dim  = uw.scaling.dimensionalise \n",
    "\n",
    "velocity = 1.0 * u.centimeter / u.hour\n",
    "model_length = 2. * u.meter\n",
    "model_height = 1. * u.meter\n",
    "refViscosity = 1e6 * u.pascal * u.second\n",
    "bodyforce = 200 * u.kilogram / u.metre**3 * 9.81 * u.meter / u.second**2\n",
    "\n",
    "KL = model_height\n",
    "Kt = KL / velocity\n",
    "KM = bodyforce * KL**2 * Kt**2\n",
    "\n",
    "\n",
    "\n",
    "scaling_coefficients  = uw.scaling.get_coefficients()\n",
    "scaling_coefficients[\"[length]\"] = KL\n",
    "scaling_coefficients[\"[time]\"]= Kt\n",
    "scaling_coefficients[\"[mass]\"]= KM\n",
    "\n",
    "scaling_coefficients"
   ]
  },
  {
   "cell_type": "markdown",
   "id": "05b54c87-3c4b-44d3-98d2-c8bc0a740615",
   "metadata": {},
   "source": [
    "#### Setup the mesh"
   ]
  },
  {
   "cell_type": "code",
   "execution_count": 4,
   "id": "dbfb8082-a97b-4955-8891-3ed019c4c421",
   "metadata": {
    "editable": true,
    "slideshow": {
     "slide_type": ""
    },
    "tags": []
   },
   "outputs": [
    {
     "name": "stdout",
     "output_type": "stream",
     "text": [
      "Structured box element resolution 32 32\n",
      "\n",
      "\n",
      "Mesh # 0: .meshes/uw_structuredQuadBox_minC(-1.0, -0.5)_maxC(1.0, 0.5).msh\n",
      "\n",
      "No variables are defined on the mesh\n",
      "\n",
      "| Boundary Name            | ID    | Min Size | Max Size |\n",
      "| ------------------------------------------------------ |\n",
      "| Bottom                   | 11    | 63       | 63       |\n",
      "| Top                      | 12    | 63       | 63       |\n",
      "| Right                    | 13    | 63       | 63       |\n",
      "| Left                     | 14    | 63       | 63       |\n",
      "| Null_Boundary            | 666   | 1089     | 1089     |\n",
      "| All_Boundaries           | 1001  | 128      | 128      |\n",
      "| All_Boundaries           | 1001  | 128      | 128      |\n",
      "| UW_Boundaries            | --    | 1469     | 1469     |\n",
      "| ------------------------------------------------------ |\n",
      "\n",
      "\n",
      "DM Object: uw_.meshes/uw_structuredQuadBox_minC(-1.0, -0.5)_maxC(1.0, 0.5).msh 1 MPI process\n",
      "  type: plex\n",
      "uw_.meshes/uw_structuredQuadBox_minC(-1.0, -0.5)_maxC(1.0, 0.5).msh in 2 dimensions:\n",
      "  Number of 0-cells per rank: 1089\n",
      "  Number of 1-cells per rank: 2112\n",
      "  Number of 2-cells per rank: 1024\n",
      "Labels:\n",
      "  depth: 3 strata with value/size (0 (1089), 1 (2112), 2 (1024))\n",
      "  All_Boundaries: 1 strata with value/size (1001 (128))\n",
      "  Bottom: 1 strata with value/size (11 (63))\n",
      "  Elements: 1 strata with value/size (99999 (1985))\n",
      "  Left: 1 strata with value/size (14 (63))\n",
      "  Right: 1 strata with value/size (13 (63))\n",
      "  Top: 1 strata with value/size (12 (63))\n",
      "  celltype: 3 strata with value/size (0 (1089), 1 (2112), 4 (1024))\n",
      "  Null_Boundary: 1 strata with value/size (666 (1089))\n",
      "  UW_Boundaries: 6 strata with value/size (11 (63), 12 (63), 13 (63), 14 (63), 666 (1089), 1001 (128))\n"
     ]
    }
   ],
   "source": [
    "# mesh = uw.meshing.UnstructuredSimplexBox(\n",
    "#             minCoords=(nd(0. * u.centimeter), nd(0. * u.centimeter)), \n",
    "#             maxCoords=(nd(20. * u.centimeter), nd(10. * u.centimeter)),\n",
    "#             cellSize=1 / 12\n",
    "# )\n",
    "\n",
    "mesh = uw.meshing.StructuredQuadBox(\n",
    "            minCoords=(nd(-1. * u.meter), nd(-50. * u.centimeter)), \n",
    "            maxCoords=(nd(1. * u.meter), nd(50. * u.centimeter)),\n",
    "            elementRes=(32,32)\n",
    ")\n",
    "\n",
    "x, y = mesh.X\n",
    "\n",
    "mesh.view()"
   ]
  },
  {
   "cell_type": "code",
   "execution_count": 5,
   "id": "f092e224",
   "metadata": {},
   "outputs": [
    {
     "data": {
      "application/vnd.jupyter.widget-view+json": {
       "model_id": "f20c6284f922450c86c56d44c0df6a0f",
       "version_major": 2,
       "version_minor": 0
      },
      "text/plain": [
       "Widget(value='<iframe src=\"http://localhost:61283/index.html?ui=P_0x15bb9f400_0&reconnect=auto\" class=\"pyvista…"
      ]
     },
     "metadata": {},
     "output_type": "display_data"
    }
   ],
   "source": [
    "from mpi4py import MPI\n",
    "\n",
    "if MPI.COMM_WORLD.size == 1:\n",
    "    \n",
    "    import pyvista as pv\n",
    "    import underworld3.visualisation as vis\n",
    "\n",
    "    pvmesh = vis.mesh_to_pv_mesh(mesh)\n",
    "\n",
    "    pl = pv.Plotter(window_size=(1000, 500), shape=(1, 1))\n",
    "\n",
    "\n",
    "    pl.add_mesh(\n",
    "        pvmesh,\n",
    "        cmap=\"coolwarm\",\n",
    "        edge_color=\"Black\",\n",
    "        show_edges=True,\n",
    "        use_transparency=False,\n",
    "        opacity=1,\n",
    "        show_scalar_bar=True,\n",
    "    )\n",
    "\n",
    "    pl.show()\n"
   ]
  },
  {
   "cell_type": "code",
   "execution_count": 6,
   "id": "d2ac5182-8b9f-4852-8e2e-4b0a16808ad0",
   "metadata": {
    "editable": true,
    "slideshow": {
     "slide_type": ""
    },
    "tags": []
   },
   "outputs": [],
   "source": [
    "# mesh variables\n",
    "p_soln = uw.discretisation.MeshVariable(varname=\"p\", mesh=mesh, num_components=1, degree=0, continuous=False )\n",
    "v_soln = uw.discretisation.MeshVariable(varname=\"v\", mesh=mesh, num_components=2, degree=1)\n"
   ]
  },
  {
   "cell_type": "markdown",
   "id": "d4a41be4-4e06-4373-aaa0-47c9ae3b998a",
   "metadata": {},
   "source": [
    "### The Stokes solver\n",
    "\n",
    "There are a number of pre-defined *solver systems* defined in `underworld3` \n",
    "which are templates for orchestrating the underlying PETSc objects. \n",
    "A solver requires us to define the unknown in the form of `meshVariables`, \n",
    "provide boundary conditions, a constitutive model, \n",
    "and provide `uw.functions` to define constitutive\n",
    "properties, and driving terms.\n",
    "\n",
    "We will use the `Stokes` solver to solve for the body force (forcing term) and viscous drag (flux term).\n",
    "\n",
    "The solver classes themselves are documented, so we can figure out what \n",
    "is needed before we define anything:\n"
   ]
  },
  {
   "cell_type": "code",
   "execution_count": 7,
   "id": "4dc10f34-02b3-48cc-9d5c-ecae856d4046",
   "metadata": {},
   "outputs": [
    {
     "data": {
      "text/markdown": [
       "\n",
       "This class provides functionality for a discrete representation\n",
       "of the Stokes flow equations assuming an incompressibility\n",
       "(or near-incompressibility) constraint.\n",
       "\n",
       "$$\n",
       "\\nabla \\cdot\n",
       "        \\color{Blue}{\\underbrace{\\Bigl[\n",
       "                \\boldsymbol{\\tau} -  p \\mathbf{I} \\Bigr]}_{\\mathbf{F}}} =\n",
       "        \\color{Maroon}{\\underbrace{\\Bigl[ \\mathbf{f} \\Bigl] }_{\\mathbf{h}}}\n",
       "$$\n",
       "\n",
       "$$\n",
       "\\underbrace{\\Bigl[ \\nabla \\cdot \\mathbf{u} \\Bigr]}_{\\mathbf{h}_p} = 0\n",
       "$$\n",
       "\n",
       "The flux term is a deviatoric stress ( $\\boldsymbol{\\tau}$ ) related to velocity gradients\n",
       "  ( $\\nabla \\mathbf{u}$ ) through a viscosity tensor, $\\eta$, and a volumetric (pressure) part $p$\n",
       "\n",
       "$$\n",
       "    \\mathbf{F}: \\quad \\boldsymbol{\\tau} = \\frac{\\eta}{2}\\left( \\nabla \\mathbf{u} + \\nabla \\mathbf{u}^T \\right)\n",
       "$$\n",
       "\n",
       "The constraint equation, $\\mathbf{h}_p = 0$ gives incompressible flow by default but can be set\n",
       "to any function of the unknown  $\\mathbf{u}$ and  $\\nabla\\cdot\\mathbf{u}$\n",
       "\n",
       "## Properties\n",
       "\n",
       "  - The unknowns are velocities $\\mathbf{u}$ and a pressure-like constraint parameter $\\mathbf{p}$\n",
       "\n",
       "  - The viscosity tensor, $\\boldsymbol{\\eta}$ is provided by setting the `constitutive_model` property to\n",
       "one of the scalar `uw.constitutive_models` classes and populating the parameters.\n",
       "It is usually a constant or a function of position / time and may also be non-linear\n",
       "or anisotropic.\n",
       "\n",
       "  - $\\mathbf f$ is a volumetric source term (i.e. body forces)\n",
       "  and is set by providing the `bodyforce` property.\n",
       "\n",
       "  - An Augmented Lagrangian approach to application of the incompressibility\n",
       "constraint is to penalise incompressibility in the Stokes equation by adding\n",
       "$ \\lambda \\nabla \\cdot \\mathbf{u} $ when the weak form of the equations is constructed.\n",
       "(this is in addition to the constraint equation, unlike in the classical penalty method).\n",
       "This is activated by setting the `penalty` property to a non-zero floating point value which adds\n",
       "the term in the `sympy` expression.\n",
       "\n",
       "  - A preconditioner is usually required for the saddle point system and this is provided\n",
       "though the `saddle_preconditioner` property. The default choice is $1/\\eta$ for a scalar viscosity function.\n",
       "\n",
       "## Notes\n",
       "\n",
       "  - For problems with viscoelastic behaviour, the flux term contains the stress history as well as the\n",
       "    stress and this term is a Lagrangian quantity that has to be tracked on a particle swarm.\n",
       "\n",
       "  - The interpolation order of the `pressureField` variable is used to determine the integration order of\n",
       "the mixed finite element method and is usually lower than the order of the `velocityField` variable.\n",
       "\n",
       "  - It is possible to set discontinuous pressure variables by setting the `p_continous` option to `False`\n",
       "\n"
      ],
      "text/plain": [
       "<IPython.core.display.Markdown object>"
      ]
     },
     "metadata": {},
     "output_type": "display_data"
    }
   ],
   "source": [
    "uw.systems.Stokes.view()"
   ]
  },
  {
   "cell_type": "markdown",
   "id": "93eba01d-14ef-4a90-a20b-97c0592160e9",
   "metadata": {},
   "source": [
    "### Add in a swarm for multimaterials\n",
    "This can be used to assign different materials different properties within the domain"
   ]
  },
  {
   "cell_type": "code",
   "execution_count": 9,
   "id": "3909a24e-fc9c-4484-b3ec-12f55f338584",
   "metadata": {},
   "outputs": [],
   "source": [
    "swarm = uw.swarm.Swarm(mesh=mesh)\n",
    "material = uw.swarm.IndexSwarmVariable(\"M\", swarm, indices=2)\n",
    "swarm.populate_petsc(fill_param=2)"
   ]
  },
  {
   "cell_type": "code",
   "execution_count": 12,
   "id": "82c74d32-3db8-4be1-bb28-903d6098ade1",
   "metadata": {},
   "outputs": [],
   "source": [
    "lightMaterial = 0\n",
    "heavyMaterial = 1"
   ]
  },
  {
   "cell_type": "code",
   "execution_count": 13,
   "id": "022064d2-f173-49af-9bbb-71c776e8f3f5",
   "metadata": {},
   "outputs": [],
   "source": [
    "with swarm.access(material):\n",
    "    material.data[...] = lightMaterial\n",
    "\n",
    "    inside = (swarm.data[:, 0] - center[0]) ** 2 + (swarm.data[:, 1] - center[1]) ** 2 < radius**2\n",
    "    material.data[inside] = heavyMaterial"
   ]
  },
  {
   "cell_type": "code",
   "execution_count": 14,
   "id": "b994f285-e17b-4cb8-b4de-f6d083423352",
   "metadata": {},
   "outputs": [
    {
     "data": {
      "application/vnd.jupyter.widget-view+json": {
       "model_id": "4e05d3ab6ffb4db7a5337403414188e2",
       "version_major": 2,
       "version_minor": 0
      },
      "text/plain": [
       "Widget(value='<iframe src=\"http://localhost:61283/index.html?ui=P_0x325fce110_1&reconnect=auto\" class=\"pyvista…"
      ]
     },
     "metadata": {},
     "output_type": "display_data"
    }
   ],
   "source": [
    "from mpi4py import MPI\n",
    "\n",
    "if MPI.COMM_WORLD.size == 1:\n",
    "    \n",
    "    import pyvista as pv\n",
    "    import underworld3.visualisation as vis\n",
    "\n",
    "    pvmesh = vis.mesh_to_pv_mesh(mesh)\n",
    "    pvswarm = vis.swarm_to_pv_cloud(swarm)\n",
    "    with swarm.access(material):\n",
    "        pvswarm.point_data[\"M\"] = material.data\n",
    "\n",
    "    pl = pv.Plotter(window_size=(1000, 500), shape=(1, 1))\n",
    "\n",
    "\n",
    "    pl.add_mesh(\n",
    "        pvswarm,\n",
    "        cmap=\"coolwarm\",\n",
    "        edge_color=\"Black\",\n",
    "        show_edges=True,\n",
    "        scalars=\"M\",\n",
    "        use_transparency=False,\n",
    "        opacity=1,\n",
    "        show_scalar_bar=True,\n",
    "    )\n",
    "\n",
    "    pl.show()"
   ]
  },
  {
   "cell_type": "markdown",
   "id": "eec093e1-9dcd-4fac-9288-009d02e04248",
   "metadata": {},
   "source": [
    "##### Add in a passive tracer to track the sinker"
   ]
  },
  {
   "cell_type": "code",
   "execution_count": 10,
   "id": "1477357d-c268-49ff-9636-c345dfca9c20",
   "metadata": {},
   "outputs": [],
   "source": [
    "center=np.array([0.,nd(30.*u.centimeter)]) \n",
    "radius= nd(10. * u.centimeter)"
   ]
  },
  {
   "cell_type": "code",
   "execution_count": 11,
   "id": "17d2079a-ba5a-493f-8804-4be8c9f79790",
   "metadata": {},
   "outputs": [
    {
     "data": {
      "text/plain": [
       "2"
      ]
     },
     "execution_count": 11,
     "metadata": {},
     "output_type": "execute_result"
    }
   ],
   "source": [
    "tip_tracer = uw.swarm.Swarm(mesh=mesh)\n",
    "tip_tracer.add_particles_with_coordinates(np.array([[center[0], center[1]-radius]]))"
   ]
  },
  {
   "cell_type": "markdown",
   "id": "8911b4d4-ec12-4416-b07b-9c6be8ad26de",
   "metadata": {},
   "source": [
    "### Problem setup"
   ]
  },
  {
   "cell_type": "code",
   "execution_count": 15,
   "id": "5fa9112a-7900-44ee-9c2e-1e887792bf13",
   "metadata": {
    "editable": true,
    "slideshow": {
     "slide_type": ""
    },
    "tags": []
   },
   "outputs": [],
   "source": [
    "# Setup stokes\n",
    "stokes = uw.systems.Stokes(mesh, velocityField=v_soln, pressureField=p_soln)"
   ]
  },
  {
   "cell_type": "markdown",
   "id": "bec72bde-7e9b-4243-977d-af2abf84b31c",
   "metadata": {},
   "source": [
    "### Constitutive Models\n",
    "\n",
    "Most of the solvers require a constitutive model to be provided and its\n",
    "parameters populated. This is to allow flexibility in defining / redefining \n",
    "solvers during a model calculation.\n",
    "\n",
    "We need a viscous flow model. We can look at the documentation first. "
   ]
  },
  {
   "cell_type": "code",
   "execution_count": 16,
   "id": "e01b8be2-0bd5-445d-9926-7ad4014b3502",
   "metadata": {},
   "outputs": [
    {
     "data": {
      "text/markdown": [
       "\n",
       "### Viscous Flow Model\n",
       "\n",
       "$$\\tau_{ij} = \\eta_{ijkl} \\cdot \\frac{1}{2} \\left[ \\frac{\\partial u_k}{\\partial x_l} + \\frac{\\partial u_l}{\\partial x_k} \\right]$$\n",
       "\n",
       "where $\\eta$ is the viscosity, a scalar constant, `sympy` function, `underworld` mesh variable or\n",
       "any valid combination of those types. This results in an isotropic (but not necessarily homogeneous or linear)\n",
       "relationship between $\\tau$ and the velocity gradients. You can also supply $\\eta_{IJ}$, the Mandel form of the\n",
       "constitutive tensor, or $\\eta_{ijkl}$, the rank 4 tensor.\n",
       "\n",
       "The Mandel constitutive matrix is available in `viscous_model.C` and the rank 4 tensor form is\n",
       "in `viscous_model.c`.\n",
       "\n",
       "\n"
      ],
      "text/plain": [
       "<IPython.core.display.Markdown object>"
      ]
     },
     "metadata": {},
     "output_type": "display_data"
    }
   ],
   "source": [
    "uw.constitutive_models.ViscousFlowModel.view()"
   ]
  },
  {
   "cell_type": "code",
   "execution_count": 17,
   "id": "747afddd-c0c4-49e2-8cc1-144cecf87698",
   "metadata": {},
   "outputs": [],
   "source": [
    "stokes.constitutive_model = uw.constitutive_models.ViscousFlowModel"
   ]
  },
  {
   "cell_type": "markdown",
   "id": "8e99845d-9286-4cd6-b6b2-0ced4fb2ded7",
   "metadata": {},
   "source": [
    "##### We use the material index to map a viscosity"
   ]
  },
  {
   "cell_type": "code",
   "execution_count": 18,
   "id": "5fb9b638-1505-4c9c-bea5-f2a13b63a31a",
   "metadata": {},
   "outputs": [],
   "source": [
    "eta_l = uw.function.expression(\n",
    "                    r'\\eta_{l}',\n",
    "                    sym=nd(1e6*u.pascal*u.second),\n",
    "                    description=\"light material viscosity\"\n",
    "                        )\n",
    "\n",
    "eta_h = uw.function.expression(\n",
    "                    r'\\eta_{h}',\n",
    "                    sym=nd(1e6*u.pascal*u.second),\n",
    "                    description=\"light material viscosity\"\n",
    "                        )"
   ]
  },
  {
   "cell_type": "code",
   "execution_count": 19,
   "id": "e59ddb20-4db3-4ecd-8d59-2d6079b9f198",
   "metadata": {},
   "outputs": [],
   "source": [
    "viscosity_fn = eta_l * material.sym[0] + eta_h * material.sym[1]"
   ]
  },
  {
   "cell_type": "code",
   "execution_count": 20,
   "id": "c2b9ec0b-ecdf-4beb-9cbb-bd33e29b1ac9",
   "metadata": {},
   "outputs": [
    {
     "data": {
      "text/latex": [
       "$\\displaystyle { \\eta_{h} \\hspace{ 0.04pt } } {M^{[1]}}(\\mathbf{x}) + { \\eta_{l} \\hspace{ 0.03pt } } {M^{[0]}}(\\mathbf{x})$"
      ],
      "text/plain": [
       "{ \\eta_{h} \\hspace{ 0.04pt } }*{M^{[1]}}(N.x, N.y) + { \\eta_{l} \\hspace{ 0.03pt } }*{M^{[0]}}(N.x, N.y)"
      ]
     },
     "execution_count": 20,
     "metadata": {},
     "output_type": "execute_result"
    }
   ],
   "source": [
    "viscosity_fn"
   ]
  },
  {
   "cell_type": "code",
   "execution_count": 21,
   "id": "5aa17f7e-b50e-4c41-8aba-6c1510370aaa",
   "metadata": {},
   "outputs": [
    {
     "data": {
      "text/markdown": [
       "**Class**: <class 'underworld3.constitutive_models.ViscousFlowModel'>"
      ],
      "text/plain": [
       "<IPython.core.display.Markdown object>"
      ]
     },
     "metadata": {},
     "output_type": "display_data"
    },
    {
     "data": {
      "text/markdown": [
       "This consititutive model is formulated for 2 dimensional equations"
      ],
      "text/plain": [
       "<IPython.core.display.Markdown object>"
      ]
     },
     "metadata": {},
     "output_type": "display_data"
    },
    {
     "data": {
      "text/latex": [
       "$\\quad\\eta_\\textrm{eff} = $ $\\displaystyle { \\eta_{h} \\hspace{ 0.04pt } } {M^{[1]}}(\\mathbf{x}) + { \\eta_{l} \\hspace{ 0.03pt } } {M^{[0]}}(\\mathbf{x})$"
      ],
      "text/plain": [
       "<IPython.core.display.Latex object>"
      ]
     },
     "metadata": {},
     "output_type": "display_data"
    }
   ],
   "source": [
    "stokes.constitutive_model.Parameters.shear_viscosity_0 = viscosity_fn\n",
    "stokes.saddle_preconditioner = 1 / viscosity_fn\n",
    "stokes.constitutive_model.view()"
   ]
  },
  {
   "cell_type": "markdown",
   "id": "bf824b49-8d1a-40c2-8830-24af3a87be38",
   "metadata": {},
   "source": [
    "##### We repeat this to map the density to each material"
   ]
  },
  {
   "cell_type": "code",
   "execution_count": 22,
   "id": "6591be9f-d6fb-4269-96cc-9aff40e461be",
   "metadata": {},
   "outputs": [],
   "source": [
    "rho_l = uw.function.expression(\n",
    "                    r'\\rho_{l}',\n",
    "                    sym=nd(10*u.kilogram/u.meter**3),\n",
    "                    description=\"light material density\"\n",
    "                        )\n",
    "\n",
    "rho_h = uw.function.expression(\n",
    "                    r'\\rho_{h}',\n",
    "                    sym=nd(500*u.kilogram/u.meter**3),\n",
    "                    description=\"heavy material density\"\n",
    "                        )\n",
    "\n",
    "\n",
    "gravity = uw.function.expression(\n",
    "                    r'g',\n",
    "                    sym=nd(9.81*u.meter/u.second**2),\n",
    "                    description=\"gravity\"\n",
    "                        )"
   ]
  },
  {
   "cell_type": "code",
   "execution_count": 23,
   "id": "89b7962d-a475-49be-a2f3-b44939445df5",
   "metadata": {},
   "outputs": [],
   "source": [
    "density = rho_l * material.sym[0] + rho_h * material.sym[1]"
   ]
  },
  {
   "cell_type": "code",
   "execution_count": 24,
   "id": "81fcdf68-64aa-4f66-918e-0b0c64048047",
   "metadata": {},
   "outputs": [],
   "source": [
    "stokes.bodyforce = sympy.Matrix([0, -1*density*gravity])"
   ]
  },
  {
   "cell_type": "code",
   "execution_count": 25,
   "id": "80b0286b-d853-4dc5-b5b1-04e6cd7c01f2",
   "metadata": {},
   "outputs": [
    {
     "data": {
      "text/markdown": [
       "**Class**: <class 'underworld3.systems.solvers.SNES_Stokes'>"
      ],
      "text/plain": [
       "<IPython.core.display.Markdown object>"
      ]
     },
     "metadata": {},
     "output_type": "display_data"
    },
    {
     "data": {
      "text/markdown": [
       "### Saddle point system solver"
      ],
      "text/plain": [
       "<IPython.core.display.Markdown object>"
      ]
     },
     "metadata": {},
     "output_type": "display_data"
    },
    {
     "data": {
      "text/markdown": [
       "Primary problem: "
      ],
      "text/plain": [
       "<IPython.core.display.Markdown object>"
      ]
     },
     "metadata": {},
     "output_type": "display_data"
    },
    {
     "data": {
      "text/latex": [
       "$\\tiny \\quad \\nabla \\cdot \\color{Blue}\\left[\\begin{matrix}2 { \\eta \\hspace{ 0.02pt } } {v}_{ 0,0}(\\mathbf{x}) - {p}(\\mathbf{x}) & { \\eta \\hspace{ 0.02pt } } \\left({v}_{ 0,1}(\\mathbf{x}) + {v}_{ 1,0}(\\mathbf{x})\\right)\\\\{ \\eta \\hspace{ 0.02pt } } \\left({v}_{ 0,1}(\\mathbf{x}) + {v}_{ 1,0}(\\mathbf{x})\\right) & 2 { \\eta \\hspace{ 0.02pt } } {v}_{ 1,1}(\\mathbf{x}) - {p}(\\mathbf{x})\\end{matrix}\\right]$ + "
      ],
      "text/plain": [
       "<IPython.core.display.Latex object>"
      ]
     },
     "metadata": {},
     "output_type": "display_data"
    },
    {
     "data": {
      "text/latex": [
       "$\\tiny \\phantom{ \\quad \\nabla \\cdot} \\color{DarkRed}\\left[\\begin{matrix}0\\\\- { g \\hspace{ 0.08pt } } \\left(- { \\rho_{h} \\hspace{ 0.07pt } } {M^{[1]}}(\\mathbf{x}) - { \\rho_{l} \\hspace{ 0.06pt } } {M^{[0]}}(\\mathbf{x})\\right)\\end{matrix}\\right]\\color{Black} = 0 $"
      ],
      "text/plain": [
       "<IPython.core.display.Latex object>"
      ]
     },
     "metadata": {},
     "output_type": "display_data"
    },
    {
     "data": {
      "text/markdown": [
       "Constraint: "
      ],
      "text/plain": [
       "<IPython.core.display.Markdown object>"
      ]
     },
     "metadata": {},
     "output_type": "display_data"
    },
    {
     "data": {
      "text/latex": [
       "$\\tiny \\phantom{ \\quad \\nabla \\cdot} \\left[\\begin{matrix}{v}_{ 0,0}(\\mathbf{x}) + {v}_{ 1,1}(\\mathbf{x})\\end{matrix}\\right] = 0 $"
      ],
      "text/plain": [
       "<IPython.core.display.Latex object>"
      ]
     },
     "metadata": {},
     "output_type": "display_data"
    },
    {
     "data": {
      "text/markdown": [
       "*Where:*"
      ],
      "text/plain": [
       "<IPython.core.display.Markdown object>"
      ]
     },
     "metadata": {},
     "output_type": "display_data"
    },
    {
     "data": {
      "text/latex": [
       "$\\quad$$\\displaystyle { \\uplambda \\hspace{ 0.0pt } }$$=$$\\displaystyle 0$"
      ],
      "text/plain": [
       "<IPython.core.display.Latex object>"
      ]
     },
     "metadata": {},
     "output_type": "display_data"
    },
    {
     "data": {
      "text/latex": [
       "$\\quad$$\\displaystyle { \\eta \\hspace{ 0.02pt } }$$=$$\\displaystyle { \\eta_{h} \\hspace{ 0.04pt } } {M^{[1]}}(\\mathbf{x}) + { \\eta_{l} \\hspace{ 0.03pt } } {M^{[0]}}(\\mathbf{x})$"
      ],
      "text/plain": [
       "<IPython.core.display.Latex object>"
      ]
     },
     "metadata": {},
     "output_type": "display_data"
    },
    {
     "data": {
      "text/latex": [
       "$\\quad\\quad$$\\displaystyle { \\eta_{h} \\hspace{ 0.04pt } }$$=$$\\displaystyle 0.00141578887756258$"
      ],
      "text/plain": [
       "<IPython.core.display.Latex object>"
      ]
     },
     "metadata": {},
     "output_type": "display_data"
    },
    {
     "data": {
      "text/latex": [
       "$\\quad\\quad$$\\displaystyle { \\eta_{l} \\hspace{ 0.03pt } }$$=$$\\displaystyle 0.00141578887756258$"
      ],
      "text/plain": [
       "<IPython.core.display.Latex object>"
      ]
     },
     "metadata": {},
     "output_type": "display_data"
    },
    {
     "data": {
      "text/latex": [
       "$\\quad$$\\displaystyle { \\eta_{l} \\hspace{ 0.03pt } }$$=$$\\displaystyle 0.00141578887756258$"
      ],
      "text/plain": [
       "<IPython.core.display.Latex object>"
      ]
     },
     "metadata": {},
     "output_type": "display_data"
    },
    {
     "data": {
      "text/latex": [
       "$\\quad$$\\displaystyle { \\rho_{l} \\hspace{ 0.06pt } }$$=$$\\displaystyle 3.93274688211827 \\cdot 10^{-14}$"
      ],
      "text/plain": [
       "<IPython.core.display.Latex object>"
      ]
     },
     "metadata": {},
     "output_type": "display_data"
    },
    {
     "data": {
      "text/latex": [
       "$\\quad$$\\displaystyle { \\rho_{h} \\hspace{ 0.07pt } }$$=$$\\displaystyle 1.96637344105914 \\cdot 10^{-12}$"
      ],
      "text/plain": [
       "<IPython.core.display.Latex object>"
      ]
     },
     "metadata": {},
     "output_type": "display_data"
    },
    {
     "data": {
      "text/latex": [
       "$\\quad$$\\displaystyle { \\eta_{h} \\hspace{ 0.04pt } }$$=$$\\displaystyle 0.00141578887756258$"
      ],
      "text/plain": [
       "<IPython.core.display.Latex object>"
      ]
     },
     "metadata": {},
     "output_type": "display_data"
    },
    {
     "data": {
      "text/latex": [
       "$\\quad$$\\displaystyle { g \\hspace{ 0.08pt } }$$=$$\\displaystyle 1271376000000.0$"
      ],
      "text/plain": [
       "<IPython.core.display.Latex object>"
      ]
     },
     "metadata": {},
     "output_type": "display_data"
    },
    {
     "data": {
      "text/markdown": [
       "#### Boundary Conditions"
      ],
      "text/plain": [
       "<IPython.core.display.Markdown object>"
      ]
     },
     "metadata": {},
     "output_type": "display_data"
    },
    {
     "data": {
      "text/markdown": [
       "| Type   | Boundary | Expression | \n",
       "|:------------------------ | -------- | ---------- | \n"
      ],
      "text/plain": [
       "<IPython.core.display.Markdown object>"
      ]
     },
     "metadata": {},
     "output_type": "display_data"
    },
    {
     "data": {
      "text/markdown": [
       "This solver is formulated as a 2 dimensional problem with a 2 dimensional mesh"
      ],
      "text/plain": [
       "<IPython.core.display.Markdown object>"
      ]
     },
     "metadata": {},
     "output_type": "display_data"
    }
   ],
   "source": [
    "stokes.view()"
   ]
  },
  {
   "cell_type": "markdown",
   "id": "91fc9639-697a-44fb-81cf-1696d6d037be",
   "metadata": {},
   "source": [
    "### Setting up boundary coniditions\n",
    "Free slip everywhere"
   ]
  },
  {
   "cell_type": "code",
   "execution_count": 26,
   "id": "899ed6be-0c75-4bc0-8c34-349669a60ce7",
   "metadata": {},
   "outputs": [],
   "source": [
    "v_0 = uw.function.expression(\n",
    "                    r'v_{0}',\n",
    "                    sym=0.,\n",
    "                    description=\"zero velocity component\"\n",
    ")"
   ]
  },
  {
   "cell_type": "code",
   "execution_count": 36,
   "id": "3b735076",
   "metadata": {},
   "outputs": [],
   "source": [
    "# Add boundary conditions\n",
    "stokes.add_essential_bc([None, v_0], \"Bottom\")\n",
    "stokes.add_essential_bc([None, v_0], \"Top\"  )\n",
    "\n",
    "stokes.add_essential_bc([v_0, None], \"Left\")\n",
    "stokes.add_essential_bc([v_0, None], \"Right\"  )\n",
    "\n",
    "\n"
   ]
  },
  {
   "cell_type": "markdown",
   "id": "176b54b9",
   "metadata": {},
   "source": [
    "#### Check the system setup by using view()"
   ]
  },
  {
   "cell_type": "code",
   "execution_count": 37,
   "id": "1a247c93",
   "metadata": {},
   "outputs": [
    {
     "data": {
      "text/markdown": [
       "**Class**: <class 'underworld3.systems.solvers.SNES_Stokes'>"
      ],
      "text/plain": [
       "<IPython.core.display.Markdown object>"
      ]
     },
     "metadata": {},
     "output_type": "display_data"
    },
    {
     "data": {
      "text/markdown": [
       "### Saddle point system solver"
      ],
      "text/plain": [
       "<IPython.core.display.Markdown object>"
      ]
     },
     "metadata": {},
     "output_type": "display_data"
    },
    {
     "data": {
      "text/markdown": [
       "Primary problem: "
      ],
      "text/plain": [
       "<IPython.core.display.Markdown object>"
      ]
     },
     "metadata": {},
     "output_type": "display_data"
    },
    {
     "data": {
      "text/latex": [
       "$\\tiny \\quad \\nabla \\cdot \\color{Blue}\\left[\\begin{matrix}2 { \\eta \\hspace{ 0.02pt } } {v}_{ 0,0}(\\mathbf{x}) - {p}(\\mathbf{x}) & { \\eta \\hspace{ 0.02pt } } \\left({v}_{ 0,1}(\\mathbf{x}) + {v}_{ 1,0}(\\mathbf{x})\\right)\\\\{ \\eta \\hspace{ 0.02pt } } \\left({v}_{ 0,1}(\\mathbf{x}) + {v}_{ 1,0}(\\mathbf{x})\\right) & 2 { \\eta \\hspace{ 0.02pt } } {v}_{ 1,1}(\\mathbf{x}) - {p}(\\mathbf{x})\\end{matrix}\\right]$ + "
      ],
      "text/plain": [
       "<IPython.core.display.Latex object>"
      ]
     },
     "metadata": {},
     "output_type": "display_data"
    },
    {
     "data": {
      "text/latex": [
       "$\\tiny \\phantom{ \\quad \\nabla \\cdot} \\color{DarkRed}\\left[\\begin{matrix}0\\\\- { g \\hspace{ 0.08pt } } \\left(- { \\rho_{h} \\hspace{ 0.07pt } } {M^{[1]}}(\\mathbf{x}) - { \\rho_{l} \\hspace{ 0.06pt } } {M^{[0]}}(\\mathbf{x})\\right)\\end{matrix}\\right]\\color{Black} = 0 $"
      ],
      "text/plain": [
       "<IPython.core.display.Latex object>"
      ]
     },
     "metadata": {},
     "output_type": "display_data"
    },
    {
     "data": {
      "text/markdown": [
       "Constraint: "
      ],
      "text/plain": [
       "<IPython.core.display.Markdown object>"
      ]
     },
     "metadata": {},
     "output_type": "display_data"
    },
    {
     "data": {
      "text/latex": [
       "$\\tiny \\phantom{ \\quad \\nabla \\cdot} \\left[\\begin{matrix}{v}_{ 0,0}(\\mathbf{x}) + {v}_{ 1,1}(\\mathbf{x})\\end{matrix}\\right] = 0 $"
      ],
      "text/plain": [
       "<IPython.core.display.Latex object>"
      ]
     },
     "metadata": {},
     "output_type": "display_data"
    },
    {
     "data": {
      "text/markdown": [
       "*Where:*"
      ],
      "text/plain": [
       "<IPython.core.display.Markdown object>"
      ]
     },
     "metadata": {},
     "output_type": "display_data"
    },
    {
     "data": {
      "text/latex": [
       "$\\quad$$\\displaystyle { \\uplambda \\hspace{ 0.0pt } }$$=$$\\displaystyle 0$"
      ],
      "text/plain": [
       "<IPython.core.display.Latex object>"
      ]
     },
     "metadata": {},
     "output_type": "display_data"
    },
    {
     "data": {
      "text/latex": [
       "$\\quad$$\\displaystyle { \\eta \\hspace{ 0.02pt } }$$=$$\\displaystyle { \\eta_{h} \\hspace{ 0.04pt } } {M^{[1]}}(\\mathbf{x}) + { \\eta_{l} \\hspace{ 0.03pt } } {M^{[0]}}(\\mathbf{x})$"
      ],
      "text/plain": [
       "<IPython.core.display.Latex object>"
      ]
     },
     "metadata": {},
     "output_type": "display_data"
    },
    {
     "data": {
      "text/latex": [
       "$\\quad\\quad$$\\displaystyle { \\eta_{h} \\hspace{ 0.04pt } }$$=$$\\displaystyle 0.00141578887756258$"
      ],
      "text/plain": [
       "<IPython.core.display.Latex object>"
      ]
     },
     "metadata": {},
     "output_type": "display_data"
    },
    {
     "data": {
      "text/latex": [
       "$\\quad\\quad$$\\displaystyle { \\eta_{l} \\hspace{ 0.03pt } }$$=$$\\displaystyle 0.00141578887756258$"
      ],
      "text/plain": [
       "<IPython.core.display.Latex object>"
      ]
     },
     "metadata": {},
     "output_type": "display_data"
    },
    {
     "data": {
      "text/latex": [
       "$\\quad$$\\displaystyle { \\eta_{l} \\hspace{ 0.03pt } }$$=$$\\displaystyle 0.00141578887756258$"
      ],
      "text/plain": [
       "<IPython.core.display.Latex object>"
      ]
     },
     "metadata": {},
     "output_type": "display_data"
    },
    {
     "data": {
      "text/latex": [
       "$\\quad$$\\displaystyle { \\rho_{l} \\hspace{ 0.06pt } }$$=$$\\displaystyle 3.93274688211827 \\cdot 10^{-14}$"
      ],
      "text/plain": [
       "<IPython.core.display.Latex object>"
      ]
     },
     "metadata": {},
     "output_type": "display_data"
    },
    {
     "data": {
      "text/latex": [
       "$\\quad$$\\displaystyle { \\rho_{h} \\hspace{ 0.07pt } }$$=$$\\displaystyle 1.96637344105914 \\cdot 10^{-12}$"
      ],
      "text/plain": [
       "<IPython.core.display.Latex object>"
      ]
     },
     "metadata": {},
     "output_type": "display_data"
    },
    {
     "data": {
      "text/latex": [
       "$\\quad$$\\displaystyle { \\eta_{h} \\hspace{ 0.04pt } }$$=$$\\displaystyle 0.00141578887756258$"
      ],
      "text/plain": [
       "<IPython.core.display.Latex object>"
      ]
     },
     "metadata": {},
     "output_type": "display_data"
    },
    {
     "data": {
      "text/latex": [
       "$\\quad$$\\displaystyle { g \\hspace{ 0.08pt } }$$=$$\\displaystyle 1271376000000.0$"
      ],
      "text/plain": [
       "<IPython.core.display.Latex object>"
      ]
     },
     "metadata": {},
     "output_type": "display_data"
    },
    {
     "data": {
      "text/markdown": [
       "#### Boundary Conditions"
      ],
      "text/plain": [
       "<IPython.core.display.Markdown object>"
      ]
     },
     "metadata": {},
     "output_type": "display_data"
    },
    {
     "data": {
      "text/markdown": [
       "| Type   | Boundary | Expression | \n",
       "|:------------------------ | -------- | ---------- | \n",
       "| **essential** | Bottom | $\\left[\\begin{matrix}\\infty & { v_{0} \\hspace{ 0.14pt } }\\end{matrix}\\right]  $ | \n",
       "| **essential** | Top | $\\left[\\begin{matrix}\\infty & { v_{0} \\hspace{ 0.14pt } }\\end{matrix}\\right]  $ | \n",
       "| **essential** | Left | $\\left[\\begin{matrix}{ v_{0} \\hspace{ 0.14pt } } & \\infty\\end{matrix}\\right]  $ | \n",
       "| **essential** | Right | $\\left[\\begin{matrix}{ v_{0} \\hspace{ 0.14pt } } & \\infty\\end{matrix}\\right]  $ | \n",
       "| **essential** | Bottom | $\\left[\\begin{matrix}\\infty & 0\\end{matrix}\\right]  $ | \n",
       "| **essential** | Top | $\\left[\\begin{matrix}\\infty & 0\\end{matrix}\\right]  $ | \n",
       "| **essential** | Left | $\\left[\\begin{matrix}0 & \\infty\\end{matrix}\\right]  $ | \n",
       "| **essential** | Right | $\\left[\\begin{matrix}0 & \\infty\\end{matrix}\\right]  $ | \n"
      ],
      "text/plain": [
       "<IPython.core.display.Markdown object>"
      ]
     },
     "metadata": {},
     "output_type": "display_data"
    },
    {
     "data": {
      "text/markdown": [
       "This solver is formulated as a 2 dimensional problem with a 2 dimensional mesh"
      ],
      "text/plain": [
       "<IPython.core.display.Markdown object>"
      ]
     },
     "metadata": {},
     "output_type": "display_data"
    }
   ],
   "source": [
    "stokes.view()"
   ]
  },
  {
   "cell_type": "markdown",
   "id": "49f8ea1a-e39a-4206-96ae-789ed85a3510",
   "metadata": {},
   "source": [
    "##### Solve the system"
   ]
  },
  {
   "cell_type": "code",
   "execution_count": 29,
   "id": "6aec7759-7cd0-4888-93e7-30e430404af6",
   "metadata": {},
   "outputs": [],
   "source": [
    "stokes.petsc_options[\"snes_converged_reason\"] = None"
   ]
  },
  {
   "cell_type": "code",
   "execution_count": 30,
   "id": "d07ee78e-81d0-4a2f-a8df-556ed2d17f1d",
   "metadata": {},
   "outputs": [],
   "source": [
    "time = 0.\n",
    "step = 0"
   ]
  },
  {
   "cell_type": "code",
   "execution_count": 31,
   "id": "67bbe2a0",
   "metadata": {},
   "outputs": [
    {
     "name": "stdout",
     "output_type": "stream",
     "text": [
      "step = 0, time = 0.0 minute, tip tracer y = 20.0 centimeter\n",
      "  Nonlinear Solver_14_ solve converged due to CONVERGED_FNORM_RELATIVE iterations 2\n",
      "step = 1, time = 36.650014189196376 minute, tip tracer y = 16.93671751248592 centimeter\n",
      "  Nonlinear Solver_14_ solve converged due to CONVERGED_FNORM_RELATIVE iterations 2\n",
      "step = 2, time = 70.55728364869803 minute, tip tracer y = 13.939965135344371 centimeter\n",
      "  Nonlinear Solver_14_ solve converged due to CONVERGED_FNORM_RELATIVE iterations 2\n",
      "step = 3, time = 101.93454371328794 minute, tip tracer y = 10.972377685641858 centimeter\n",
      "  Nonlinear Solver_14_ solve converged due to CONVERGED_FNORM_RELATIVE iterations 2\n",
      "step = 4, time = 132.83746932526347 minute, tip tracer y = 8.010296853594744 centimeter\n",
      "  Nonlinear Solver_14_ solve converged due to CONVERGED_FNORM_RELATIVE iterations 2\n"
     ]
    }
   ],
   "source": [
    "# Solve the system n times\n",
    "for nsteps in range(5):\n",
    "    with tip_tracer.access():\n",
    "        print(f'step = {step}, time = {dim(time, u.minute)}, tip tracer y = {dim(tip_tracer.data[:,1][0], u.centimeter)}')\n",
    "    \n",
    "    stokes.solve(zero_init_guess=True)\n",
    "    dt = stokes.estimate_dt()\n",
    "    ### advect particles\n",
    "    swarm.advection(v_soln.sym, dt)\n",
    "    tip_tracer.advection(v_soln.sym, dt)\n",
    "    \n",
    "    step += 1\n",
    "    time += dt"
   ]
  },
  {
   "cell_type": "code",
   "execution_count": 32,
   "id": "6dccf566-8505-4a6e-94a7-f2869b73e3ff",
   "metadata": {
    "editable": true,
    "slideshow": {
     "slide_type": ""
    },
    "tags": []
   },
   "outputs": [
    {
     "data": {
      "application/vnd.jupyter.widget-view+json": {
       "model_id": "b532736416824684b662faf600a2a60e",
       "version_major": 2,
       "version_minor": 0
      },
      "text/plain": [
       "Widget(value='<iframe src=\"http://localhost:61283/index.html?ui=P_0x32dc432e0_2&reconnect=auto\" class=\"pyvista…"
      ]
     },
     "metadata": {},
     "output_type": "display_data"
    }
   ],
   "source": [
    "from mpi4py import MPI\n",
    "\n",
    "if MPI.COMM_WORLD.size == 1:\n",
    "    \n",
    "    import pyvista as pv\n",
    "    import underworld3.visualisation as vis\n",
    "\n",
    "    pvmesh = vis.mesh_to_pv_mesh(mesh)\n",
    "    pvmesh.point_data[\"V\"] = uw.visualisation.vector_fn_to_pv_points(pvmesh, v_soln.sym)\n",
    "\n",
    "    velocity_points = uw.visualisation.meshVariable_to_pv_cloud(v_soln)\n",
    "    velocity_points.point_data[\"V\"] = uw.visualisation.vector_fn_to_pv_points(velocity_points, v_soln.sym)\n",
    "\n",
    "\n",
    "    pvswarm = vis.swarm_to_pv_cloud(swarm)\n",
    "    with swarm.access(material):\n",
    "        pvswarm.point_data[\"M\"] = material.data\n",
    "\n",
    "    pl = pv.Plotter(window_size=(1000, 500), shape=(1, 1))\n",
    "\n",
    "\n",
    "    pl.add_mesh(\n",
    "        pvswarm,\n",
    "        cmap=\"coolwarm\",\n",
    "        edge_color=\"Black\",\n",
    "        show_edges=True,\n",
    "        scalars=\"M\",\n",
    "        use_transparency=False,\n",
    "        opacity=1,\n",
    "        show_scalar_bar=True,\n",
    "    )\n",
    "\n",
    "    arrows = pl.add_arrows(velocity_points.points, velocity_points.point_data[\"V\"], mag=1e-1, opacity=0.1, show_scalar_bar=False)\n",
    "\n",
    "    pl.show()"
   ]
  }
 ],
 "metadata": {
  "kernelspec": {
   "display_name": "Python 3 (ipykernel)",
   "language": "python",
   "name": "python3"
  },
  "language_info": {
   "codemirror_mode": {
    "name": "ipython",
    "version": 3
   },
   "file_extension": ".py",
   "mimetype": "text/x-python",
   "name": "python",
   "nbconvert_exporter": "python",
   "pygments_lexer": "ipython3",
   "version": "3.10.14"
  }
 },
 "nbformat": 4,
 "nbformat_minor": 5
}
