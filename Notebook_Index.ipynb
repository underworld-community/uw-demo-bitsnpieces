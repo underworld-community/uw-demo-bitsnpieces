{
 "cells": [
  {
   "cell_type": "markdown",
   "id": "3e09bb55-c60c-402f-b24b-251925da5367",
   "metadata": {},
   "source": [
    "\n",
    "\n",
    "<div style=\"float: right; width: 30%; padding-left:20px;\">\n",
    "<img src=\"../../underworld2/docs/development/docs_generator/images/logo_black.svg\" width=100%>\n",
    "</div>\n",
    "\n",
    "# Tutorials\n",
    "\n",
    "Underworld is designed to be run in the jupyter notebook environment where you can take advantage of jupyter's rich display capabilities to explore the mathematics of your problem, visualise results and query classes or live objects.\n",
    "\n",
    "You will find it helpful for developing scripts and analysing results. If you use `jupytext` to write notebooks directly as python scripts, then the same notebook codes will run on a parallel machine with no performance penalty.\n",
    "\n",
    "\n",
    "---\n"
   ]
  },
  {
   "cell_type": "markdown",
   "id": "2d4b5254",
   "metadata": {},
   "source": [
    "# _UWGeo_ notebooks\n",
    "_Introduction to numerical modelling with UWGeo_"
   ]
  },
  {
   "cell_type": "markdown",
   "id": "85b44f65",
   "metadata": {},
   "source": [
    "#### Notebook 1 - [Steady state heat](../../underworld2/docs/UWGeodynamics/examples/1_01_Steady_State_Heat.ipynb)\n",
    "Introduces setting up an UWGeo model, scaling the model and working with units, boundary conditions and visualisation"
   ]
  },
  {
   "cell_type": "markdown",
   "id": "49ac296c",
   "metadata": {},
   "source": [
    "#### Notebook 2 - [Stokes sinker](../../underworld2/docs/UWGeodynamics/examples/1_05_StokesSinker.ipynb)\n",
    " Builds on notebook 1 by adding in multi-materials and setting up their material properties for a stokes solve and some analysis tools."
   ]
  },
  {
   "cell_type": "markdown",
   "id": "a4d6453b",
   "metadata": {},
   "source": [
    "#### Notebook 3 - [Convection](../../underworld2/docs/UWGeodynamics/examples/1_02_Convection_Example.ipynb)\n",
    " Builds on notebooks 1 & 2 by combining the advection-diffusion solver for temperature and stokes for the velocity field"
   ]
  },
  {
   "cell_type": "markdown",
   "id": "a7e39f57-b809-4ba6-821d-7bf57883ef32",
   "metadata": {},
   "source": [
    "# _underworld3_ notebooks\n",
    "_Repeat of the UW2 notebooks_"
   ]
  },
  {
   "cell_type": "markdown",
   "id": "c26277e2",
   "metadata": {},
   "source": [
    "#### Notebook 1 - [Steady state heat](./UW3/1_01_steadyStateHeat.ipynb)\n",
    "Introduces setting up an UWGeo model, scaling the model and working with units, boundary conditions and visualisation"
   ]
  },
  {
   "cell_type": "markdown",
   "id": "41116528",
   "metadata": {},
   "source": [
    "#### Notebook 2 - [Stokes sinker](./UW3/1_05_stokesSinker.ipynb)\n",
    " Builds on notebook 1 by adding in multi-materials and setting up their material properties for a stokes solve and some analysis tools."
   ]
  },
  {
   "cell_type": "markdown",
   "id": "b922d1d1",
   "metadata": {},
   "source": [
    "#### Notebook 3 - [Convection](./UW3/1_02_convection.ipynb)\n",
    " Builds on notebooks 1 & 2 by combining the advection-diffusion solver for temperature and stokes for the velocity field"
   ]
  },
  {
   "cell_type": "markdown",
   "id": "95f03a08",
   "metadata": {},
   "source": [
    "#### Notebook 4 - [Annulus convection](../../underworld3/docs/user/Notebooks/6-Timestepping.ipynb)\n",
    " Convection, but in an annulus domain"
   ]
  },
  {
   "cell_type": "markdown",
   "id": "d2fa9c47",
   "metadata": {},
   "source": []
  }
 ],
 "metadata": {
  "kernelspec": {
   "display_name": "Python 3 (ipykernel)",
   "language": "python",
   "name": "python3"
  },
  "language_info": {
   "codemirror_mode": {
    "name": "ipython",
    "version": 3
   },
   "file_extension": ".py",
   "mimetype": "text/x-python",
   "name": "python",
   "nbconvert_exporter": "python",
   "pygments_lexer": "ipython3",
   "version": "3.11.9"
  }
 },
 "nbformat": 4,
 "nbformat_minor": 5
}
